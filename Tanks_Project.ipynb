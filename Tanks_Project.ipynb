{
 "cells": [
  {
   "cell_type": "markdown",
   "id": "a707bc55",
   "metadata": {},
   "source": [
    "This data will be collected by the US Department of Energy in order to develop \n",
    "the infrastructure of the stockpile and to address some of the negative phenomena that occur in the use of the reservoir,\n",
    "such as abandoning the reservoir\n",
    "This report was prepared to observe this phenomenon, find out its causes and what is related to it, \n",
    "and write proposals \n",
    "\n",
    "<img src=\"tank1.jpg\">"
   ]
  },
  {
   "cell_type": "markdown",
   "id": "3911a7b5",
   "metadata": {},
   "source": [
    "## details for every tank and its area , city in USA\n",
    "Area Name                        \n",
    "Area Address                 \n",
    "Area City                       \n",
    "Site Zip                        \n",
    "Tank Num                         \n",
    "Closure Type                     \n",
    "Compartment                     \n",
    "carrying tank capacity(gallons)  \n",
    "Substance Currently Stored      \n",
    "Status of Tank                  \n",
    "Construction Type - Tank         \n",
    "Construction Type - Piping       \n",
    "Installation Date                \n",
    "Tank Latitude                    \n",
    "Tank Longitude                   \n",
    "Area Latitude                   \n",
    "Area Longitude                  \n",
    "Overfill Protection             \n",
    "Spill Protection                 \n",
    "Tank protection                 "
   ]
  },
  {
   "cell_type": "code",
   "execution_count": 1,
   "id": "e7044045",
   "metadata": {},
   "outputs": [],
   "source": [
    "import pandas as pd\n",
    "import numpy as np\n",
    "import warnings\n",
    "warnings.filterwarnings('ignore')\n",
    "import math\n",
    "from geopy.distance import great_circle\n",
    "import seaborn as sns\n",
    "import matplotlib.pyplot as plt\n",
    "%matplotlib inline\n",
    "sns.set(rc = {'figure.figsize' :[15,5]}, font_scale = 1.3)"
   ]
  },
  {
   "cell_type": "code",
   "execution_count": 2,
   "id": "2afb455c",
   "metadata": {},
   "outputs": [],
   "source": [
    "from datasist.structdata import  detect_outliers"
   ]
  },
  {
   "cell_type": "code",
   "execution_count": 3,
   "id": "024ad3ea",
   "metadata": {},
   "outputs": [],
   "source": [
    "df = pd.read_csv('Tanks_USA.csv')\n",
    "df.drop(['Unnamed: 0'],axis =1 , inplace =True)"
   ]
  },
  {
   "cell_type": "code",
   "execution_count": 4,
   "id": "2dcb4ab7",
   "metadata": {},
   "outputs": [
    {
     "data": {
      "text/plain": [
       "10"
      ]
     },
     "execution_count": 4,
     "metadata": {},
     "output_type": "execute_result"
    }
   ],
   "source": [
    "df.duplicated().sum()"
   ]
  },
  {
   "cell_type": "code",
   "execution_count": 5,
   "id": "6d1cb3bb",
   "metadata": {},
   "outputs": [
    {
     "data": {
      "text/html": [
       "<div>\n",
       "<style scoped>\n",
       "    .dataframe tbody tr th:only-of-type {\n",
       "        vertical-align: middle;\n",
       "    }\n",
       "\n",
       "    .dataframe tbody tr th {\n",
       "        vertical-align: top;\n",
       "    }\n",
       "\n",
       "    .dataframe thead th {\n",
       "        text-align: right;\n",
       "    }\n",
       "</style>\n",
       "<table border=\"1\" class=\"dataframe\">\n",
       "  <thead>\n",
       "    <tr style=\"text-align: right;\">\n",
       "      <th></th>\n",
       "      <th>Area Name</th>\n",
       "      <th>Area Address</th>\n",
       "      <th>Area City</th>\n",
       "      <th>Site Zip</th>\n",
       "      <th>Tank Num</th>\n",
       "      <th>Closure Type</th>\n",
       "      <th>Compartment</th>\n",
       "      <th>carrying tank capacity(gallons)</th>\n",
       "      <th>Substance Currently Stored</th>\n",
       "      <th>Status of Tank</th>\n",
       "      <th>Construction Type - Tank</th>\n",
       "      <th>Construction Type - Piping</th>\n",
       "      <th>Installation Date</th>\n",
       "      <th>Tank Latitude</th>\n",
       "      <th>Tank Longitude</th>\n",
       "      <th>Area Latitude</th>\n",
       "      <th>Area Longitude</th>\n",
       "      <th>Overfill Protection</th>\n",
       "      <th>Spill Protection</th>\n",
       "      <th>Tank protection</th>\n",
       "    </tr>\n",
       "  </thead>\n",
       "  <tbody>\n",
       "    <tr>\n",
       "      <th>0</th>\n",
       "      <td>Brewer Dauntless Marina</td>\n",
       "      <td>9 NOVELTY LN</td>\n",
       "      <td>ESSEX</td>\n",
       "      <td>6426.0</td>\n",
       "      <td>1</td>\n",
       "      <td>Permanently Closed</td>\n",
       "      <td>b</td>\n",
       "      <td>4000</td>\n",
       "      <td>Gasoline</td>\n",
       "      <td>Tank is runing underground</td>\n",
       "      <td>Coated &amp; Cathodically Protected Steel (sti-P3)</td>\n",
       "      <td>Flexible Plastic</td>\n",
       "      <td>1999-06-01</td>\n",
       "      <td>41.350018</td>\n",
       "      <td>-72.385442</td>\n",
       "      <td>41.350018</td>\n",
       "      <td>-72.385442</td>\n",
       "      <td>Audible Alarm,Ball Float Device,Flapper Device</td>\n",
       "      <td>Spill Bucket</td>\n",
       "      <td>Cathodically Protected,Double Walled,Interior ...</td>\n",
       "    </tr>\n",
       "    <tr>\n",
       "      <th>1</th>\n",
       "      <td>FOOD BAG #509</td>\n",
       "      <td>1652 BOSTON POST RD</td>\n",
       "      <td>OLD SAYBROOK</td>\n",
       "      <td>6475.0</td>\n",
       "      <td>D1</td>\n",
       "      <td>Permanently Closed</td>\n",
       "      <td>a</td>\n",
       "      <td>10000</td>\n",
       "      <td>Diesel</td>\n",
       "      <td>Tank is runing underground</td>\n",
       "      <td>Coated &amp; Cathodically Protected Steel (sti-P3)</td>\n",
       "      <td>Rigid Fiberglass Reinforced Plastic</td>\n",
       "      <td>1983-02-01</td>\n",
       "      <td>41.286115</td>\n",
       "      <td>-72.414762</td>\n",
       "      <td>41.286115</td>\n",
       "      <td>-72.414762</td>\n",
       "      <td>Ball Float Device,Flapper Device</td>\n",
       "      <td>Spill Bucket</td>\n",
       "      <td>Double Walled,Excavation Liner</td>\n",
       "    </tr>\n",
       "    <tr>\n",
       "      <th>2</th>\n",
       "      <td>510 FARMINGTON AVE</td>\n",
       "      <td>510 FARMINGTON AVE</td>\n",
       "      <td>BRISTOL</td>\n",
       "      <td>6010.0</td>\n",
       "      <td>D4</td>\n",
       "      <td>Permanently Closed</td>\n",
       "      <td>a</td>\n",
       "      <td>1000</td>\n",
       "      <td>Used Oil</td>\n",
       "      <td>Tank is runing underground</td>\n",
       "      <td>Coated &amp; Cathodically Protected Steel (sti-P3)</td>\n",
       "      <td>Galvanized Steel</td>\n",
       "      <td>1953-01-01</td>\n",
       "      <td>41.689698</td>\n",
       "      <td>-72.926238</td>\n",
       "      <td>41.689710</td>\n",
       "      <td>-72.926260</td>\n",
       "      <td>Audible Alarm</td>\n",
       "      <td>Spill Bucket &amp; spout</td>\n",
       "      <td>Cathodically Protected</td>\n",
       "    </tr>\n",
       "    <tr>\n",
       "      <th>3</th>\n",
       "      <td>WILTON WORK CENTER (Northeast Utilities)</td>\n",
       "      <td>ROUTE 7</td>\n",
       "      <td>Wilton</td>\n",
       "      <td>6141.0</td>\n",
       "      <td>A1</td>\n",
       "      <td>Permanently Closed</td>\n",
       "      <td>a</td>\n",
       "      <td>2000</td>\n",
       "      <td>Gasoline</td>\n",
       "      <td>Tank is runing underground</td>\n",
       "      <td>Asphalt Coated or Bare Steel</td>\n",
       "      <td>Other (Specify)</td>\n",
       "      <td>1956-01-01</td>\n",
       "      <td>41.791461</td>\n",
       "      <td>-72.661565</td>\n",
       "      <td>41.791460</td>\n",
       "      <td>-72.661570</td>\n",
       "      <td>Audible Alarm,Ball Float Device,Flapper Device</td>\n",
       "      <td>Spill Bucket &amp; spout</td>\n",
       "      <td>Cathodically Protected,Double Walled,Interior ...</td>\n",
       "    </tr>\n",
       "    <tr>\n",
       "      <th>4</th>\n",
       "      <td>NEW ENGLAND MASONRY COMPANY</td>\n",
       "      <td>146 SHERIDAN DR</td>\n",
       "      <td>NAUGATUCK</td>\n",
       "      <td>6770.0</td>\n",
       "      <td>B2</td>\n",
       "      <td>Permanently Closed</td>\n",
       "      <td>a</td>\n",
       "      <td>2000</td>\n",
       "      <td>Gasoline</td>\n",
       "      <td>Tank is runing underground</td>\n",
       "      <td>Asphalt Coated or Bare Steel</td>\n",
       "      <td>Galvanized Steel</td>\n",
       "      <td>1980-02-01</td>\n",
       "      <td>41.508699</td>\n",
       "      <td>-73.042658</td>\n",
       "      <td>41.508699</td>\n",
       "      <td>-73.042658</td>\n",
       "      <td>Audible Alarm,Ball Float Device,Flapper Device</td>\n",
       "      <td>Spill Bucket</td>\n",
       "      <td>Cathodically Protected,Double Walled,Interior ...</td>\n",
       "    </tr>\n",
       "    <tr>\n",
       "      <th>...</th>\n",
       "      <td>...</td>\n",
       "      <td>...</td>\n",
       "      <td>...</td>\n",
       "      <td>...</td>\n",
       "      <td>...</td>\n",
       "      <td>...</td>\n",
       "      <td>...</td>\n",
       "      <td>...</td>\n",
       "      <td>...</td>\n",
       "      <td>...</td>\n",
       "      <td>...</td>\n",
       "      <td>...</td>\n",
       "      <td>...</td>\n",
       "      <td>...</td>\n",
       "      <td>...</td>\n",
       "      <td>...</td>\n",
       "      <td>...</td>\n",
       "      <td>...</td>\n",
       "      <td>...</td>\n",
       "      <td>...</td>\n",
       "    </tr>\n",
       "    <tr>\n",
       "      <th>49051</th>\n",
       "      <td>401 PUTNAM INC.</td>\n",
       "      <td>401 W PUTNAM AVE</td>\n",
       "      <td>GREENWICH</td>\n",
       "      <td>6830.0</td>\n",
       "      <td>B3</td>\n",
       "      <td>Permanently Closed</td>\n",
       "      <td>a</td>\n",
       "      <td>8000</td>\n",
       "      <td>Gasoline</td>\n",
       "      <td>Tank is runing underground</td>\n",
       "      <td>Asphalt Coated or Bare Steel</td>\n",
       "      <td>Galvanized Steel</td>\n",
       "      <td>1963-12-01</td>\n",
       "      <td>41.021822</td>\n",
       "      <td>-73.640032</td>\n",
       "      <td>41.021822</td>\n",
       "      <td>-73.640032</td>\n",
       "      <td>Audible Alarm,Ball Float Device,Flapper Device</td>\n",
       "      <td>Spill Bucket &amp; spout</td>\n",
       "      <td>Cathodically Protected,Double Walled,Interior ...</td>\n",
       "    </tr>\n",
       "    <tr>\n",
       "      <th>49052</th>\n",
       "      <td>FIRST FUEL OF NORTH HAVEN</td>\n",
       "      <td>133 MIDDLETOWN AVE</td>\n",
       "      <td>NORTH HAVEN</td>\n",
       "      <td>6473.0</td>\n",
       "      <td>2R1</td>\n",
       "      <td>Temporarily Closed</td>\n",
       "      <td>b</td>\n",
       "      <td>4000</td>\n",
       "      <td>Diesel</td>\n",
       "      <td>Tank was Abandoned in Ground</td>\n",
       "      <td>Fiberglass Reinforced Plastic</td>\n",
       "      <td>Rigid Fiberglass Reinforced Plastic</td>\n",
       "      <td>2004-08-04</td>\n",
       "      <td>41.341382</td>\n",
       "      <td>-72.861577</td>\n",
       "      <td>41.341382</td>\n",
       "      <td>-72.861577</td>\n",
       "      <td>Flapper Device</td>\n",
       "      <td>spout</td>\n",
       "      <td>Double Walled</td>\n",
       "    </tr>\n",
       "    <tr>\n",
       "      <th>49053</th>\n",
       "      <td>GENERAL EQUITIES INC.</td>\n",
       "      <td>56 SOUTH MAIN STREET/ 327 SOUTH MAIN STREET</td>\n",
       "      <td>COLCHESTER</td>\n",
       "      <td>6415.0</td>\n",
       "      <td>H-1</td>\n",
       "      <td>Temporarily Closed</td>\n",
       "      <td>NaN</td>\n",
       "      <td>6000</td>\n",
       "      <td>Kerosene</td>\n",
       "      <td>Tank was Abandoned in Ground</td>\n",
       "      <td>Fiberglass Reinforced Plastic</td>\n",
       "      <td>Flexible Plastic</td>\n",
       "      <td>2001-05-01</td>\n",
       "      <td>41.568232</td>\n",
       "      <td>-72.327200</td>\n",
       "      <td>41.568232</td>\n",
       "      <td>-72.327200</td>\n",
       "      <td>Ball Float Device,Flapper Device</td>\n",
       "      <td>Spill Bucket &amp; spout</td>\n",
       "      <td>Double Walled,Interior Lined with Epoxy Coating</td>\n",
       "    </tr>\n",
       "    <tr>\n",
       "      <th>49054</th>\n",
       "      <td>BERKSHIRE PETROLEUM OF NORTH HAVEN</td>\n",
       "      <td>11 UNIVERSAL DR</td>\n",
       "      <td>NORTH HAVEN</td>\n",
       "      <td>6473.0</td>\n",
       "      <td>C1</td>\n",
       "      <td>Temporarily Closed</td>\n",
       "      <td>NaN</td>\n",
       "      <td>20000</td>\n",
       "      <td>Diesel</td>\n",
       "      <td>Tank was Abandoned in Ground</td>\n",
       "      <td>Coated &amp; Cathodically Protected Steel (sti-P3)</td>\n",
       "      <td>Rigid Fiberglass Reinforced Plastic</td>\n",
       "      <td>2004-04-01</td>\n",
       "      <td>41.350177</td>\n",
       "      <td>-72.868200</td>\n",
       "      <td>41.350177</td>\n",
       "      <td>-72.868200</td>\n",
       "      <td>Flapper Device</td>\n",
       "      <td>spout</td>\n",
       "      <td>Double Walled</td>\n",
       "    </tr>\n",
       "    <tr>\n",
       "      <th>49055</th>\n",
       "      <td>State Street Food Mart</td>\n",
       "      <td>414 STATE ST</td>\n",
       "      <td>NORTH HAVEN</td>\n",
       "      <td>6473.0</td>\n",
       "      <td>B2R1</td>\n",
       "      <td>Temporarily Closed</td>\n",
       "      <td>NaN</td>\n",
       "      <td>8000</td>\n",
       "      <td>Gasoline</td>\n",
       "      <td>Tank was Abandoned in Ground</td>\n",
       "      <td>Coated &amp; Cathodically Protected Steel (sti-P3)</td>\n",
       "      <td>Rigid Fiberglass Reinforced Plastic</td>\n",
       "      <td>1996-03-01</td>\n",
       "      <td>41.363870</td>\n",
       "      <td>-72.887968</td>\n",
       "      <td>41.363870</td>\n",
       "      <td>-72.887968</td>\n",
       "      <td>Ball Float Device</td>\n",
       "      <td>spout</td>\n",
       "      <td>Single Walled</td>\n",
       "    </tr>\n",
       "  </tbody>\n",
       "</table>\n",
       "<p>49056 rows × 20 columns</p>\n",
       "</div>"
      ],
      "text/plain": [
       "                                      Area Name  \\\n",
       "0                       Brewer Dauntless Marina   \n",
       "1                                 FOOD BAG #509   \n",
       "2                            510 FARMINGTON AVE   \n",
       "3      WILTON WORK CENTER (Northeast Utilities)   \n",
       "4                   NEW ENGLAND MASONRY COMPANY   \n",
       "...                                         ...   \n",
       "49051                           401 PUTNAM INC.   \n",
       "49052                 FIRST FUEL OF NORTH HAVEN   \n",
       "49053                     GENERAL EQUITIES INC.   \n",
       "49054        BERKSHIRE PETROLEUM OF NORTH HAVEN   \n",
       "49055                    State Street Food Mart   \n",
       "\n",
       "                                      Area Address     Area City  Site Zip  \\\n",
       "0                                     9 NOVELTY LN         ESSEX    6426.0   \n",
       "1                              1652 BOSTON POST RD  OLD SAYBROOK    6475.0   \n",
       "2                               510 FARMINGTON AVE       BRISTOL    6010.0   \n",
       "3                                          ROUTE 7        Wilton    6141.0   \n",
       "4                                  146 SHERIDAN DR     NAUGATUCK    6770.0   \n",
       "...                                            ...           ...       ...   \n",
       "49051                             401 W PUTNAM AVE     GREENWICH    6830.0   \n",
       "49052                           133 MIDDLETOWN AVE   NORTH HAVEN    6473.0   \n",
       "49053  56 SOUTH MAIN STREET/ 327 SOUTH MAIN STREET    COLCHESTER    6415.0   \n",
       "49054                              11 UNIVERSAL DR   NORTH HAVEN    6473.0   \n",
       "49055                                 414 STATE ST   NORTH HAVEN    6473.0   \n",
       "\n",
       "      Tank Num        Closure Type Compartment  \\\n",
       "0            1  Permanently Closed           b   \n",
       "1           D1  Permanently Closed           a   \n",
       "2           D4  Permanently Closed           a   \n",
       "3           A1  Permanently Closed           a   \n",
       "4           B2  Permanently Closed           a   \n",
       "...        ...                 ...         ...   \n",
       "49051       B3  Permanently Closed           a   \n",
       "49052      2R1  Temporarily Closed           b   \n",
       "49053      H-1  Temporarily Closed         NaN   \n",
       "49054       C1  Temporarily Closed         NaN   \n",
       "49055     B2R1  Temporarily Closed         NaN   \n",
       "\n",
       "       carrying tank capacity(gallons) Substance Currently Stored  \\\n",
       "0                                 4000                   Gasoline   \n",
       "1                                10000                     Diesel   \n",
       "2                                 1000                   Used Oil   \n",
       "3                                 2000                   Gasoline   \n",
       "4                                 2000                   Gasoline   \n",
       "...                                ...                        ...   \n",
       "49051                             8000                   Gasoline   \n",
       "49052                             4000                     Diesel   \n",
       "49053                             6000                   Kerosene   \n",
       "49054                            20000                     Diesel   \n",
       "49055                             8000                   Gasoline   \n",
       "\n",
       "                     Status of Tank  \\\n",
       "0        Tank is runing underground   \n",
       "1        Tank is runing underground   \n",
       "2        Tank is runing underground   \n",
       "3        Tank is runing underground   \n",
       "4        Tank is runing underground   \n",
       "...                             ...   \n",
       "49051    Tank is runing underground   \n",
       "49052  Tank was Abandoned in Ground   \n",
       "49053  Tank was Abandoned in Ground   \n",
       "49054  Tank was Abandoned in Ground   \n",
       "49055  Tank was Abandoned in Ground   \n",
       "\n",
       "                             Construction Type - Tank  \\\n",
       "0      Coated & Cathodically Protected Steel (sti-P3)   \n",
       "1      Coated & Cathodically Protected Steel (sti-P3)   \n",
       "2      Coated & Cathodically Protected Steel (sti-P3)   \n",
       "3                        Asphalt Coated or Bare Steel   \n",
       "4                        Asphalt Coated or Bare Steel   \n",
       "...                                               ...   \n",
       "49051                    Asphalt Coated or Bare Steel   \n",
       "49052                   Fiberglass Reinforced Plastic   \n",
       "49053                   Fiberglass Reinforced Plastic   \n",
       "49054  Coated & Cathodically Protected Steel (sti-P3)   \n",
       "49055  Coated & Cathodically Protected Steel (sti-P3)   \n",
       "\n",
       "                Construction Type - Piping Installation Date  Tank Latitude  \\\n",
       "0                         Flexible Plastic        1999-06-01      41.350018   \n",
       "1      Rigid Fiberglass Reinforced Plastic        1983-02-01      41.286115   \n",
       "2                         Galvanized Steel        1953-01-01      41.689698   \n",
       "3                          Other (Specify)        1956-01-01      41.791461   \n",
       "4                         Galvanized Steel        1980-02-01      41.508699   \n",
       "...                                    ...               ...            ...   \n",
       "49051                     Galvanized Steel        1963-12-01      41.021822   \n",
       "49052  Rigid Fiberglass Reinforced Plastic        2004-08-04      41.341382   \n",
       "49053                     Flexible Plastic        2001-05-01      41.568232   \n",
       "49054  Rigid Fiberglass Reinforced Plastic        2004-04-01      41.350177   \n",
       "49055  Rigid Fiberglass Reinforced Plastic        1996-03-01      41.363870   \n",
       "\n",
       "       Tank Longitude  Area Latitude  Area Longitude  \\\n",
       "0          -72.385442      41.350018      -72.385442   \n",
       "1          -72.414762      41.286115      -72.414762   \n",
       "2          -72.926238      41.689710      -72.926260   \n",
       "3          -72.661565      41.791460      -72.661570   \n",
       "4          -73.042658      41.508699      -73.042658   \n",
       "...               ...            ...             ...   \n",
       "49051      -73.640032      41.021822      -73.640032   \n",
       "49052      -72.861577      41.341382      -72.861577   \n",
       "49053      -72.327200      41.568232      -72.327200   \n",
       "49054      -72.868200      41.350177      -72.868200   \n",
       "49055      -72.887968      41.363870      -72.887968   \n",
       "\n",
       "                                  Overfill Protection      Spill Protection  \\\n",
       "0      Audible Alarm,Ball Float Device,Flapper Device          Spill Bucket   \n",
       "1                    Ball Float Device,Flapper Device          Spill Bucket   \n",
       "2                                       Audible Alarm  Spill Bucket & spout   \n",
       "3      Audible Alarm,Ball Float Device,Flapper Device  Spill Bucket & spout   \n",
       "4      Audible Alarm,Ball Float Device,Flapper Device          Spill Bucket   \n",
       "...                                               ...                   ...   \n",
       "49051  Audible Alarm,Ball Float Device,Flapper Device  Spill Bucket & spout   \n",
       "49052                                  Flapper Device                 spout   \n",
       "49053                Ball Float Device,Flapper Device  Spill Bucket & spout   \n",
       "49054                                  Flapper Device                 spout   \n",
       "49055                               Ball Float Device                 spout   \n",
       "\n",
       "                                         Tank protection  \n",
       "0      Cathodically Protected,Double Walled,Interior ...  \n",
       "1                         Double Walled,Excavation Liner  \n",
       "2                                 Cathodically Protected  \n",
       "3      Cathodically Protected,Double Walled,Interior ...  \n",
       "4      Cathodically Protected,Double Walled,Interior ...  \n",
       "...                                                  ...  \n",
       "49051  Cathodically Protected,Double Walled,Interior ...  \n",
       "49052                                      Double Walled  \n",
       "49053    Double Walled,Interior Lined with Epoxy Coating  \n",
       "49054                                      Double Walled  \n",
       "49055                                      Single Walled  \n",
       "\n",
       "[49056 rows x 20 columns]"
      ]
     },
     "execution_count": 5,
     "metadata": {},
     "output_type": "execute_result"
    }
   ],
   "source": [
    "df"
   ]
  },
  {
   "cell_type": "code",
   "execution_count": 5,
   "id": "db94d02f",
   "metadata": {},
   "outputs": [
    {
     "name": "stdout",
     "output_type": "stream",
     "text": [
      "<class 'pandas.core.frame.DataFrame'>\n",
      "RangeIndex: 49056 entries, 0 to 49055\n",
      "Data columns (total 20 columns):\n",
      " #   Column                           Non-Null Count  Dtype  \n",
      "---  ------                           --------------  -----  \n",
      " 0   Area Name                        49056 non-null  object \n",
      " 1   Area Address                     49044 non-null  object \n",
      " 2   Area City                        49056 non-null  object \n",
      " 3   Site Zip                         48939 non-null  float64\n",
      " 4   Tank Num                         49055 non-null  object \n",
      " 5   Closure Type                     49056 non-null  object \n",
      " 6   Compartment                      48069 non-null  object \n",
      " 7   carrying tank capacity(gallons)  49056 non-null  int64  \n",
      " 8   Substance Currently Stored       47226 non-null  object \n",
      " 9   Status of Tank                   49056 non-null  object \n",
      " 10  Construction Type - Tank         47281 non-null  object \n",
      " 11  Construction Type - Piping       49056 non-null  object \n",
      " 12  Installation Date                47556 non-null  object \n",
      " 13  Tank Latitude                    48546 non-null  float64\n",
      " 14  Tank Longitude                   48546 non-null  float64\n",
      " 15  Area Latitude                    48561 non-null  float64\n",
      " 16  Area Longitude                   48561 non-null  float64\n",
      " 17  Overfill Protection              49056 non-null  object \n",
      " 18  Spill Protection                 49056 non-null  object \n",
      " 19  Tank protection                  49056 non-null  object \n",
      "dtypes: float64(5), int64(1), object(14)\n",
      "memory usage: 7.5+ MB\n"
     ]
    }
   ],
   "source": [
    "df.info()"
   ]
  },
  {
   "cell_type": "code",
   "execution_count": 6,
   "id": "e938c4f4",
   "metadata": {},
   "outputs": [
    {
     "data": {
      "text/plain": [
       "Area Name                             0\n",
       "Area Address                         12\n",
       "Area City                             0\n",
       "Site Zip                            117\n",
       "Tank Num                              1\n",
       "Closure Type                          0\n",
       "Compartment                         987\n",
       "carrying tank capacity(gallons)       0\n",
       "Substance Currently Stored         1830\n",
       "Status of Tank                        0\n",
       "Construction Type - Tank           1775\n",
       "Construction Type - Piping            0\n",
       "Installation Date                  1500\n",
       "Tank Latitude                       510\n",
       "Tank Longitude                      510\n",
       "Area Latitude                       495\n",
       "Area Longitude                      495\n",
       "Overfill Protection                   0\n",
       "Spill Protection                      0\n",
       "Tank protection                       0\n",
       "dtype: int64"
      ]
     },
     "execution_count": 6,
     "metadata": {},
     "output_type": "execute_result"
    }
   ],
   "source": [
    "df.isna().sum()"
   ]
  },
  {
   "cell_type": "markdown",
   "id": "9547f386",
   "metadata": {},
   "source": [
    "# Preprocessing"
   ]
  },
  {
   "cell_type": "code",
   "execution_count": 6,
   "id": "27210313",
   "metadata": {},
   "outputs": [],
   "source": [
    "cat = df.select_dtypes(include='object')\n",
    "num = df.select_dtypes(include='number')"
   ]
  },
  {
   "cell_type": "code",
   "execution_count": 7,
   "id": "dbd27174",
   "metadata": {},
   "outputs": [
    {
     "data": {
      "text/html": [
       "<div>\n",
       "<style scoped>\n",
       "    .dataframe tbody tr th:only-of-type {\n",
       "        vertical-align: middle;\n",
       "    }\n",
       "\n",
       "    .dataframe tbody tr th {\n",
       "        vertical-align: top;\n",
       "    }\n",
       "\n",
       "    .dataframe thead th {\n",
       "        text-align: right;\n",
       "    }\n",
       "</style>\n",
       "<table border=\"1\" class=\"dataframe\">\n",
       "  <thead>\n",
       "    <tr style=\"text-align: right;\">\n",
       "      <th></th>\n",
       "      <th>Area Name</th>\n",
       "      <th>Area Address</th>\n",
       "      <th>Area City</th>\n",
       "      <th>Tank Num</th>\n",
       "      <th>Closure Type</th>\n",
       "      <th>Compartment</th>\n",
       "      <th>Substance Currently Stored</th>\n",
       "      <th>Status of Tank</th>\n",
       "      <th>Construction Type - Tank</th>\n",
       "      <th>Construction Type - Piping</th>\n",
       "      <th>Installation Date</th>\n",
       "      <th>Overfill Protection</th>\n",
       "      <th>Spill Protection</th>\n",
       "      <th>Tank protection</th>\n",
       "    </tr>\n",
       "  </thead>\n",
       "  <tbody>\n",
       "    <tr>\n",
       "      <th>0</th>\n",
       "      <td>Brewer Dauntless Marina</td>\n",
       "      <td>9 NOVELTY LN</td>\n",
       "      <td>ESSEX</td>\n",
       "      <td>1</td>\n",
       "      <td>Permanently Closed</td>\n",
       "      <td>b</td>\n",
       "      <td>Gasoline</td>\n",
       "      <td>Tank is runing underground</td>\n",
       "      <td>Coated &amp; Cathodically Protected Steel (sti-P3)</td>\n",
       "      <td>Flexible Plastic</td>\n",
       "      <td>1999-06-01</td>\n",
       "      <td>Audible Alarm,Ball Float Device,Flapper Device</td>\n",
       "      <td>Spill Bucket</td>\n",
       "      <td>Cathodically Protected,Double Walled,Interior ...</td>\n",
       "    </tr>\n",
       "    <tr>\n",
       "      <th>1</th>\n",
       "      <td>FOOD BAG #509</td>\n",
       "      <td>1652 BOSTON POST RD</td>\n",
       "      <td>OLD SAYBROOK</td>\n",
       "      <td>D1</td>\n",
       "      <td>Permanently Closed</td>\n",
       "      <td>a</td>\n",
       "      <td>Diesel</td>\n",
       "      <td>Tank is runing underground</td>\n",
       "      <td>Coated &amp; Cathodically Protected Steel (sti-P3)</td>\n",
       "      <td>Rigid Fiberglass Reinforced Plastic</td>\n",
       "      <td>1983-02-01</td>\n",
       "      <td>Ball Float Device,Flapper Device</td>\n",
       "      <td>Spill Bucket</td>\n",
       "      <td>Double Walled,Excavation Liner</td>\n",
       "    </tr>\n",
       "    <tr>\n",
       "      <th>2</th>\n",
       "      <td>510 FARMINGTON AVE</td>\n",
       "      <td>510 FARMINGTON AVE</td>\n",
       "      <td>BRISTOL</td>\n",
       "      <td>D4</td>\n",
       "      <td>Permanently Closed</td>\n",
       "      <td>a</td>\n",
       "      <td>Used Oil</td>\n",
       "      <td>Tank is runing underground</td>\n",
       "      <td>Coated &amp; Cathodically Protected Steel (sti-P3)</td>\n",
       "      <td>Galvanized Steel</td>\n",
       "      <td>1953-01-01</td>\n",
       "      <td>Audible Alarm</td>\n",
       "      <td>Spill Bucket &amp; spout</td>\n",
       "      <td>Cathodically Protected</td>\n",
       "    </tr>\n",
       "    <tr>\n",
       "      <th>3</th>\n",
       "      <td>WILTON WORK CENTER (Northeast Utilities)</td>\n",
       "      <td>ROUTE 7</td>\n",
       "      <td>Wilton</td>\n",
       "      <td>A1</td>\n",
       "      <td>Permanently Closed</td>\n",
       "      <td>a</td>\n",
       "      <td>Gasoline</td>\n",
       "      <td>Tank is runing underground</td>\n",
       "      <td>Asphalt Coated or Bare Steel</td>\n",
       "      <td>Other (Specify)</td>\n",
       "      <td>1956-01-01</td>\n",
       "      <td>Audible Alarm,Ball Float Device,Flapper Device</td>\n",
       "      <td>Spill Bucket &amp; spout</td>\n",
       "      <td>Cathodically Protected,Double Walled,Interior ...</td>\n",
       "    </tr>\n",
       "    <tr>\n",
       "      <th>4</th>\n",
       "      <td>NEW ENGLAND MASONRY COMPANY</td>\n",
       "      <td>146 SHERIDAN DR</td>\n",
       "      <td>NAUGATUCK</td>\n",
       "      <td>B2</td>\n",
       "      <td>Permanently Closed</td>\n",
       "      <td>a</td>\n",
       "      <td>Gasoline</td>\n",
       "      <td>Tank is runing underground</td>\n",
       "      <td>Asphalt Coated or Bare Steel</td>\n",
       "      <td>Galvanized Steel</td>\n",
       "      <td>1980-02-01</td>\n",
       "      <td>Audible Alarm,Ball Float Device,Flapper Device</td>\n",
       "      <td>Spill Bucket</td>\n",
       "      <td>Cathodically Protected,Double Walled,Interior ...</td>\n",
       "    </tr>\n",
       "    <tr>\n",
       "      <th>...</th>\n",
       "      <td>...</td>\n",
       "      <td>...</td>\n",
       "      <td>...</td>\n",
       "      <td>...</td>\n",
       "      <td>...</td>\n",
       "      <td>...</td>\n",
       "      <td>...</td>\n",
       "      <td>...</td>\n",
       "      <td>...</td>\n",
       "      <td>...</td>\n",
       "      <td>...</td>\n",
       "      <td>...</td>\n",
       "      <td>...</td>\n",
       "      <td>...</td>\n",
       "    </tr>\n",
       "    <tr>\n",
       "      <th>49051</th>\n",
       "      <td>401 PUTNAM INC.</td>\n",
       "      <td>401 W PUTNAM AVE</td>\n",
       "      <td>GREENWICH</td>\n",
       "      <td>B3</td>\n",
       "      <td>Permanently Closed</td>\n",
       "      <td>a</td>\n",
       "      <td>Gasoline</td>\n",
       "      <td>Tank is runing underground</td>\n",
       "      <td>Asphalt Coated or Bare Steel</td>\n",
       "      <td>Galvanized Steel</td>\n",
       "      <td>1963-12-01</td>\n",
       "      <td>Audible Alarm,Ball Float Device,Flapper Device</td>\n",
       "      <td>Spill Bucket &amp; spout</td>\n",
       "      <td>Cathodically Protected,Double Walled,Interior ...</td>\n",
       "    </tr>\n",
       "    <tr>\n",
       "      <th>49052</th>\n",
       "      <td>FIRST FUEL OF NORTH HAVEN</td>\n",
       "      <td>133 MIDDLETOWN AVE</td>\n",
       "      <td>NORTH HAVEN</td>\n",
       "      <td>2R1</td>\n",
       "      <td>Temporarily Closed</td>\n",
       "      <td>b</td>\n",
       "      <td>Diesel</td>\n",
       "      <td>Tank was Abandoned in Ground</td>\n",
       "      <td>Fiberglass Reinforced Plastic</td>\n",
       "      <td>Rigid Fiberglass Reinforced Plastic</td>\n",
       "      <td>2004-08-04</td>\n",
       "      <td>Flapper Device</td>\n",
       "      <td>spout</td>\n",
       "      <td>Double Walled</td>\n",
       "    </tr>\n",
       "    <tr>\n",
       "      <th>49053</th>\n",
       "      <td>GENERAL EQUITIES INC.</td>\n",
       "      <td>56 SOUTH MAIN STREET/ 327 SOUTH MAIN STREET</td>\n",
       "      <td>COLCHESTER</td>\n",
       "      <td>H-1</td>\n",
       "      <td>Temporarily Closed</td>\n",
       "      <td>NaN</td>\n",
       "      <td>Kerosene</td>\n",
       "      <td>Tank was Abandoned in Ground</td>\n",
       "      <td>Fiberglass Reinforced Plastic</td>\n",
       "      <td>Flexible Plastic</td>\n",
       "      <td>2001-05-01</td>\n",
       "      <td>Ball Float Device,Flapper Device</td>\n",
       "      <td>Spill Bucket &amp; spout</td>\n",
       "      <td>Double Walled,Interior Lined with Epoxy Coating</td>\n",
       "    </tr>\n",
       "    <tr>\n",
       "      <th>49054</th>\n",
       "      <td>BERKSHIRE PETROLEUM OF NORTH HAVEN</td>\n",
       "      <td>11 UNIVERSAL DR</td>\n",
       "      <td>NORTH HAVEN</td>\n",
       "      <td>C1</td>\n",
       "      <td>Temporarily Closed</td>\n",
       "      <td>NaN</td>\n",
       "      <td>Diesel</td>\n",
       "      <td>Tank was Abandoned in Ground</td>\n",
       "      <td>Coated &amp; Cathodically Protected Steel (sti-P3)</td>\n",
       "      <td>Rigid Fiberglass Reinforced Plastic</td>\n",
       "      <td>2004-04-01</td>\n",
       "      <td>Flapper Device</td>\n",
       "      <td>spout</td>\n",
       "      <td>Double Walled</td>\n",
       "    </tr>\n",
       "    <tr>\n",
       "      <th>49055</th>\n",
       "      <td>State Street Food Mart</td>\n",
       "      <td>414 STATE ST</td>\n",
       "      <td>NORTH HAVEN</td>\n",
       "      <td>B2R1</td>\n",
       "      <td>Temporarily Closed</td>\n",
       "      <td>NaN</td>\n",
       "      <td>Gasoline</td>\n",
       "      <td>Tank was Abandoned in Ground</td>\n",
       "      <td>Coated &amp; Cathodically Protected Steel (sti-P3)</td>\n",
       "      <td>Rigid Fiberglass Reinforced Plastic</td>\n",
       "      <td>1996-03-01</td>\n",
       "      <td>Ball Float Device</td>\n",
       "      <td>spout</td>\n",
       "      <td>Single Walled</td>\n",
       "    </tr>\n",
       "  </tbody>\n",
       "</table>\n",
       "<p>49056 rows × 14 columns</p>\n",
       "</div>"
      ],
      "text/plain": [
       "                                      Area Name  \\\n",
       "0                       Brewer Dauntless Marina   \n",
       "1                                 FOOD BAG #509   \n",
       "2                            510 FARMINGTON AVE   \n",
       "3      WILTON WORK CENTER (Northeast Utilities)   \n",
       "4                   NEW ENGLAND MASONRY COMPANY   \n",
       "...                                         ...   \n",
       "49051                           401 PUTNAM INC.   \n",
       "49052                 FIRST FUEL OF NORTH HAVEN   \n",
       "49053                     GENERAL EQUITIES INC.   \n",
       "49054        BERKSHIRE PETROLEUM OF NORTH HAVEN   \n",
       "49055                    State Street Food Mart   \n",
       "\n",
       "                                      Area Address     Area City Tank Num  \\\n",
       "0                                     9 NOVELTY LN         ESSEX        1   \n",
       "1                              1652 BOSTON POST RD  OLD SAYBROOK       D1   \n",
       "2                               510 FARMINGTON AVE       BRISTOL       D4   \n",
       "3                                          ROUTE 7        Wilton       A1   \n",
       "4                                  146 SHERIDAN DR     NAUGATUCK       B2   \n",
       "...                                            ...           ...      ...   \n",
       "49051                             401 W PUTNAM AVE     GREENWICH       B3   \n",
       "49052                           133 MIDDLETOWN AVE   NORTH HAVEN      2R1   \n",
       "49053  56 SOUTH MAIN STREET/ 327 SOUTH MAIN STREET    COLCHESTER      H-1   \n",
       "49054                              11 UNIVERSAL DR   NORTH HAVEN       C1   \n",
       "49055                                 414 STATE ST   NORTH HAVEN     B2R1   \n",
       "\n",
       "             Closure Type Compartment Substance Currently Stored  \\\n",
       "0      Permanently Closed           b                   Gasoline   \n",
       "1      Permanently Closed           a                     Diesel   \n",
       "2      Permanently Closed           a                   Used Oil   \n",
       "3      Permanently Closed           a                   Gasoline   \n",
       "4      Permanently Closed           a                   Gasoline   \n",
       "...                   ...         ...                        ...   \n",
       "49051  Permanently Closed           a                   Gasoline   \n",
       "49052  Temporarily Closed           b                     Diesel   \n",
       "49053  Temporarily Closed         NaN                   Kerosene   \n",
       "49054  Temporarily Closed         NaN                     Diesel   \n",
       "49055  Temporarily Closed         NaN                   Gasoline   \n",
       "\n",
       "                     Status of Tank  \\\n",
       "0        Tank is runing underground   \n",
       "1        Tank is runing underground   \n",
       "2        Tank is runing underground   \n",
       "3        Tank is runing underground   \n",
       "4        Tank is runing underground   \n",
       "...                             ...   \n",
       "49051    Tank is runing underground   \n",
       "49052  Tank was Abandoned in Ground   \n",
       "49053  Tank was Abandoned in Ground   \n",
       "49054  Tank was Abandoned in Ground   \n",
       "49055  Tank was Abandoned in Ground   \n",
       "\n",
       "                             Construction Type - Tank  \\\n",
       "0      Coated & Cathodically Protected Steel (sti-P3)   \n",
       "1      Coated & Cathodically Protected Steel (sti-P3)   \n",
       "2      Coated & Cathodically Protected Steel (sti-P3)   \n",
       "3                        Asphalt Coated or Bare Steel   \n",
       "4                        Asphalt Coated or Bare Steel   \n",
       "...                                               ...   \n",
       "49051                    Asphalt Coated or Bare Steel   \n",
       "49052                   Fiberglass Reinforced Plastic   \n",
       "49053                   Fiberglass Reinforced Plastic   \n",
       "49054  Coated & Cathodically Protected Steel (sti-P3)   \n",
       "49055  Coated & Cathodically Protected Steel (sti-P3)   \n",
       "\n",
       "                Construction Type - Piping Installation Date  \\\n",
       "0                         Flexible Plastic        1999-06-01   \n",
       "1      Rigid Fiberglass Reinforced Plastic        1983-02-01   \n",
       "2                         Galvanized Steel        1953-01-01   \n",
       "3                          Other (Specify)        1956-01-01   \n",
       "4                         Galvanized Steel        1980-02-01   \n",
       "...                                    ...               ...   \n",
       "49051                     Galvanized Steel        1963-12-01   \n",
       "49052  Rigid Fiberglass Reinforced Plastic        2004-08-04   \n",
       "49053                     Flexible Plastic        2001-05-01   \n",
       "49054  Rigid Fiberglass Reinforced Plastic        2004-04-01   \n",
       "49055  Rigid Fiberglass Reinforced Plastic        1996-03-01   \n",
       "\n",
       "                                  Overfill Protection      Spill Protection  \\\n",
       "0      Audible Alarm,Ball Float Device,Flapper Device          Spill Bucket   \n",
       "1                    Ball Float Device,Flapper Device          Spill Bucket   \n",
       "2                                       Audible Alarm  Spill Bucket & spout   \n",
       "3      Audible Alarm,Ball Float Device,Flapper Device  Spill Bucket & spout   \n",
       "4      Audible Alarm,Ball Float Device,Flapper Device          Spill Bucket   \n",
       "...                                               ...                   ...   \n",
       "49051  Audible Alarm,Ball Float Device,Flapper Device  Spill Bucket & spout   \n",
       "49052                                  Flapper Device                 spout   \n",
       "49053                Ball Float Device,Flapper Device  Spill Bucket & spout   \n",
       "49054                                  Flapper Device                 spout   \n",
       "49055                               Ball Float Device                 spout   \n",
       "\n",
       "                                         Tank protection  \n",
       "0      Cathodically Protected,Double Walled,Interior ...  \n",
       "1                         Double Walled,Excavation Liner  \n",
       "2                                 Cathodically Protected  \n",
       "3      Cathodically Protected,Double Walled,Interior ...  \n",
       "4      Cathodically Protected,Double Walled,Interior ...  \n",
       "...                                                  ...  \n",
       "49051  Cathodically Protected,Double Walled,Interior ...  \n",
       "49052                                      Double Walled  \n",
       "49053    Double Walled,Interior Lined with Epoxy Coating  \n",
       "49054                                      Double Walled  \n",
       "49055                                      Single Walled  \n",
       "\n",
       "[49056 rows x 14 columns]"
      ]
     },
     "execution_count": 7,
     "metadata": {},
     "output_type": "execute_result"
    }
   ],
   "source": [
    "cat"
   ]
  },
  {
   "cell_type": "code",
   "execution_count": 8,
   "id": "5fa04b10",
   "metadata": {},
   "outputs": [
    {
     "data": {
      "text/html": [
       "<div>\n",
       "<style scoped>\n",
       "    .dataframe tbody tr th:only-of-type {\n",
       "        vertical-align: middle;\n",
       "    }\n",
       "\n",
       "    .dataframe tbody tr th {\n",
       "        vertical-align: top;\n",
       "    }\n",
       "\n",
       "    .dataframe thead th {\n",
       "        text-align: right;\n",
       "    }\n",
       "</style>\n",
       "<table border=\"1\" class=\"dataframe\">\n",
       "  <thead>\n",
       "    <tr style=\"text-align: right;\">\n",
       "      <th></th>\n",
       "      <th>Site Zip</th>\n",
       "      <th>carrying tank capacity(gallons)</th>\n",
       "      <th>Tank Latitude</th>\n",
       "      <th>Tank Longitude</th>\n",
       "      <th>Area Latitude</th>\n",
       "      <th>Area Longitude</th>\n",
       "    </tr>\n",
       "  </thead>\n",
       "  <tbody>\n",
       "    <tr>\n",
       "      <th>0</th>\n",
       "      <td>6426.0</td>\n",
       "      <td>4000</td>\n",
       "      <td>41.350018</td>\n",
       "      <td>-72.385442</td>\n",
       "      <td>41.350018</td>\n",
       "      <td>-72.385442</td>\n",
       "    </tr>\n",
       "    <tr>\n",
       "      <th>1</th>\n",
       "      <td>6475.0</td>\n",
       "      <td>10000</td>\n",
       "      <td>41.286115</td>\n",
       "      <td>-72.414762</td>\n",
       "      <td>41.286115</td>\n",
       "      <td>-72.414762</td>\n",
       "    </tr>\n",
       "    <tr>\n",
       "      <th>2</th>\n",
       "      <td>6010.0</td>\n",
       "      <td>1000</td>\n",
       "      <td>41.689698</td>\n",
       "      <td>-72.926238</td>\n",
       "      <td>41.689710</td>\n",
       "      <td>-72.926260</td>\n",
       "    </tr>\n",
       "    <tr>\n",
       "      <th>3</th>\n",
       "      <td>6141.0</td>\n",
       "      <td>2000</td>\n",
       "      <td>41.791461</td>\n",
       "      <td>-72.661565</td>\n",
       "      <td>41.791460</td>\n",
       "      <td>-72.661570</td>\n",
       "    </tr>\n",
       "    <tr>\n",
       "      <th>4</th>\n",
       "      <td>6770.0</td>\n",
       "      <td>2000</td>\n",
       "      <td>41.508699</td>\n",
       "      <td>-73.042658</td>\n",
       "      <td>41.508699</td>\n",
       "      <td>-73.042658</td>\n",
       "    </tr>\n",
       "    <tr>\n",
       "      <th>...</th>\n",
       "      <td>...</td>\n",
       "      <td>...</td>\n",
       "      <td>...</td>\n",
       "      <td>...</td>\n",
       "      <td>...</td>\n",
       "      <td>...</td>\n",
       "    </tr>\n",
       "    <tr>\n",
       "      <th>49051</th>\n",
       "      <td>6830.0</td>\n",
       "      <td>8000</td>\n",
       "      <td>41.021822</td>\n",
       "      <td>-73.640032</td>\n",
       "      <td>41.021822</td>\n",
       "      <td>-73.640032</td>\n",
       "    </tr>\n",
       "    <tr>\n",
       "      <th>49052</th>\n",
       "      <td>6473.0</td>\n",
       "      <td>4000</td>\n",
       "      <td>41.341382</td>\n",
       "      <td>-72.861577</td>\n",
       "      <td>41.341382</td>\n",
       "      <td>-72.861577</td>\n",
       "    </tr>\n",
       "    <tr>\n",
       "      <th>49053</th>\n",
       "      <td>6415.0</td>\n",
       "      <td>6000</td>\n",
       "      <td>41.568232</td>\n",
       "      <td>-72.327200</td>\n",
       "      <td>41.568232</td>\n",
       "      <td>-72.327200</td>\n",
       "    </tr>\n",
       "    <tr>\n",
       "      <th>49054</th>\n",
       "      <td>6473.0</td>\n",
       "      <td>20000</td>\n",
       "      <td>41.350177</td>\n",
       "      <td>-72.868200</td>\n",
       "      <td>41.350177</td>\n",
       "      <td>-72.868200</td>\n",
       "    </tr>\n",
       "    <tr>\n",
       "      <th>49055</th>\n",
       "      <td>6473.0</td>\n",
       "      <td>8000</td>\n",
       "      <td>41.363870</td>\n",
       "      <td>-72.887968</td>\n",
       "      <td>41.363870</td>\n",
       "      <td>-72.887968</td>\n",
       "    </tr>\n",
       "  </tbody>\n",
       "</table>\n",
       "<p>49056 rows × 6 columns</p>\n",
       "</div>"
      ],
      "text/plain": [
       "       Site Zip  carrying tank capacity(gallons)  Tank Latitude  \\\n",
       "0        6426.0                             4000      41.350018   \n",
       "1        6475.0                            10000      41.286115   \n",
       "2        6010.0                             1000      41.689698   \n",
       "3        6141.0                             2000      41.791461   \n",
       "4        6770.0                             2000      41.508699   \n",
       "...         ...                              ...            ...   \n",
       "49051    6830.0                             8000      41.021822   \n",
       "49052    6473.0                             4000      41.341382   \n",
       "49053    6415.0                             6000      41.568232   \n",
       "49054    6473.0                            20000      41.350177   \n",
       "49055    6473.0                             8000      41.363870   \n",
       "\n",
       "       Tank Longitude  Area Latitude  Area Longitude  \n",
       "0          -72.385442      41.350018      -72.385442  \n",
       "1          -72.414762      41.286115      -72.414762  \n",
       "2          -72.926238      41.689710      -72.926260  \n",
       "3          -72.661565      41.791460      -72.661570  \n",
       "4          -73.042658      41.508699      -73.042658  \n",
       "...               ...            ...             ...  \n",
       "49051      -73.640032      41.021822      -73.640032  \n",
       "49052      -72.861577      41.341382      -72.861577  \n",
       "49053      -72.327200      41.568232      -72.327200  \n",
       "49054      -72.868200      41.350177      -72.868200  \n",
       "49055      -72.887968      41.363870      -72.887968  \n",
       "\n",
       "[49056 rows x 6 columns]"
      ]
     },
     "execution_count": 8,
     "metadata": {},
     "output_type": "execute_result"
    }
   ],
   "source": [
    "num"
   ]
  },
  {
   "cell_type": "markdown",
   "id": "da4ce12e",
   "metadata": {},
   "source": [
    "## Handle categorical missing values "
   ]
  },
  {
   "cell_type": "code",
   "execution_count": 8,
   "id": "925aa535",
   "metadata": {},
   "outputs": [],
   "source": [
    "for x in cat.columns :\n",
    "    df[x].fillna(df[x].mode()[0],axis = 0,inplace =True)"
   ]
  },
  {
   "cell_type": "markdown",
   "id": "ccbc10ff",
   "metadata": {},
   "source": [
    "## Handle numerical missing values \n"
   ]
  },
  {
   "cell_type": "code",
   "execution_count": 9,
   "id": "7330f213",
   "metadata": {},
   "outputs": [],
   "source": [
    "for x in num.columns :\n",
    "    df[x].fillna(df[x].median(),axis = 0,inplace =True)"
   ]
  },
  {
   "cell_type": "code",
   "execution_count": 10,
   "id": "75305513",
   "metadata": {},
   "outputs": [
    {
     "data": {
      "text/plain": [
       "Area Name                          0\n",
       "Area Address                       0\n",
       "Area City                          0\n",
       "Site Zip                           0\n",
       "Tank Num                           0\n",
       "Closure Type                       0\n",
       "Compartment                        0\n",
       "carrying tank capacity(gallons)    0\n",
       "Substance Currently Stored         0\n",
       "Status of Tank                     0\n",
       "Construction Type - Tank           0\n",
       "Construction Type - Piping         0\n",
       "Installation Date                  0\n",
       "Tank Latitude                      0\n",
       "Tank Longitude                     0\n",
       "Area Latitude                      0\n",
       "Area Longitude                     0\n",
       "Overfill Protection                0\n",
       "Spill Protection                   0\n",
       "Tank protection                    0\n",
       "dtype: int64"
      ]
     },
     "execution_count": 10,
     "metadata": {},
     "output_type": "execute_result"
    }
   ],
   "source": [
    "df.isna().sum()"
   ]
  },
  {
   "cell_type": "markdown",
   "id": "be8df2db",
   "metadata": {},
   "source": [
    "## Remove duplicate"
   ]
  },
  {
   "cell_type": "code",
   "execution_count": 158,
   "id": "db60c1fe",
   "metadata": {},
   "outputs": [],
   "source": [
    "df.drop_duplicates(inplace = True )"
   ]
  },
  {
   "cell_type": "markdown",
   "id": "a64346f9",
   "metadata": {},
   "source": [
    "# Feature engineering\n",
    "Data cleaning\n"
   ]
  },
  {
   "cell_type": "code",
   "execution_count": 12,
   "id": "e6f9ed18",
   "metadata": {},
   "outputs": [],
   "source": [
    "def capitalize(x):\n",
    "    return str.capitalize(x)"
   ]
  },
  {
   "cell_type": "code",
   "execution_count": 13,
   "id": "23cf5158",
   "metadata": {},
   "outputs": [],
   "source": [
    "df['Area City'] =df['Area City'].apply(capitalize)"
   ]
  },
  {
   "cell_type": "code",
   "execution_count": 14,
   "id": "6aa502fb",
   "metadata": {},
   "outputs": [],
   "source": [
    "def cap(x):\n",
    "    if ' ' in x :\n",
    "        c= x.split(' ')\n",
    "        return c[0]+' '+str.capitalize(c[1])\n",
    "    else :\n",
    "        return x"
   ]
  },
  {
   "cell_type": "code",
   "execution_count": 15,
   "id": "18b25264",
   "metadata": {},
   "outputs": [],
   "source": [
    "df['Area City'] =df['Area City'].apply(cap)"
   ]
  },
  {
   "cell_type": "code",
   "execution_count": null,
   "id": "eb709e5c",
   "metadata": {},
   "outputs": [],
   "source": []
  },
  {
   "cell_type": "code",
   "execution_count": 16,
   "id": "4d929a21",
   "metadata": {},
   "outputs": [],
   "source": [
    "def transfer(x):\n",
    "    if x == 'b' :\n",
    "        return 'B'\n",
    "    elif x =='a':\n",
    "        return 'A'\n",
    "    elif x == 'c' :\n",
    "        return 'C'\n",
    "    elif x == 'd' :\n",
    "        return 'D'\n",
    "    else :\n",
    "        return x"
   ]
  },
  {
   "cell_type": "code",
   "execution_count": 17,
   "id": "37abe844",
   "metadata": {},
   "outputs": [],
   "source": [
    "df['Compartment'] = df['Compartment'].apply(transfer)"
   ]
  },
  {
   "cell_type": "code",
   "execution_count": 18,
   "id": "6d8deb8b",
   "metadata": {},
   "outputs": [],
   "source": [
    "df['Area Name']= df['Area Name'].apply(capitalize)"
   ]
  },
  {
   "cell_type": "code",
   "execution_count": 19,
   "id": "0648e5aa",
   "metadata": {},
   "outputs": [],
   "source": [
    "df['Area Address']= df['Area Address'].apply(capitalize)"
   ]
  },
  {
   "cell_type": "code",
   "execution_count": 20,
   "id": "d48c8e91",
   "metadata": {},
   "outputs": [],
   "source": [
    "cat = df.select_dtypes(include='object')\n",
    "num = df.select_dtypes(include='number')"
   ]
  },
  {
   "cell_type": "code",
   "execution_count": 21,
   "id": "803a6f1b",
   "metadata": {},
   "outputs": [
    {
     "data": {
      "text/plain": [
       "Galvanized Steel                                      21016\n",
       "Rigid Fiberglass Reinforced Plastic                    7619\n",
       "Epoxy Coated Steel                                     6464\n",
       "Other (Specify)                                        5594\n",
       "Bare Steel                                             4502\n",
       "Flexible Plastic                                       3198\n",
       "Copper                                                  308\n",
       "Semi-Rigid Plastic                                      163\n",
       "No Piping Associated with Tank or Aboveground Only      150\n",
       "falsefalsefalsefalsefalsefalsefalsefalsefalse            17\n",
       "Galvonized Steel                                         11\n",
       "falsefalsefalsetruefalsefalsefalsefalsefalse              2\n",
       "falsefalsefalsefalsefalsetruefalsefalsefalse              1\n",
       "truefalsefalsefalsefalsefalsefalsefalsefalse              1\n",
       "Name: Construction Type - Piping, dtype: int64"
      ]
     },
     "execution_count": 21,
     "metadata": {},
     "output_type": "execute_result"
    }
   ],
   "source": [
    "df['Construction Type - Tank'].value_counts()\n",
    "df['Construction Type - Piping'].value_counts()"
   ]
  },
  {
   "cell_type": "code",
   "execution_count": 22,
   "id": "93282029",
   "metadata": {},
   "outputs": [],
   "source": [
    "missing_Tank = ['falsefalsefalsefalsefalsefalsefalse','falsefalsefalsefalsefalsetruefalse','Other (Specify)']"
   ]
  },
  {
   "cell_type": "code",
   "execution_count": 23,
   "id": "4f41ffd8",
   "metadata": {},
   "outputs": [],
   "source": [
    "def Cons_tank(x):\n",
    "    if x in missing_Tank :\n",
    "        return df['Construction Type - Tank'].mode()[0]\n",
    "    else : \n",
    "        return x"
   ]
  },
  {
   "cell_type": "code",
   "execution_count": 24,
   "id": "fe40dd08",
   "metadata": {},
   "outputs": [],
   "source": [
    "df['Construction Type - Tank'] = df['Construction Type - Tank'].apply(Cons_tank)"
   ]
  },
  {
   "cell_type": "code",
   "execution_count": 25,
   "id": "e40c272c",
   "metadata": {},
   "outputs": [
    {
     "data": {
      "text/plain": [
       "Asphalt Coated or Bare Steel                      25500\n",
       "Fiberglass Reinforced Plastic                     10489\n",
       "Coated & Cathodically Protected Steel (sti-P3)     7816\n",
       "Composite - Steel with Fiberglass (ACT 100)        5140\n",
       "Composite - Steel with Urethane (ACT 100-U)          63\n",
       "Composite - Steel with Plastic Jacket                38\n",
       "Name: Construction Type - Tank, dtype: int64"
      ]
     },
     "execution_count": 25,
     "metadata": {},
     "output_type": "execute_result"
    }
   ],
   "source": [
    "df['Construction Type - Tank'].value_counts()"
   ]
  },
  {
   "cell_type": "code",
   "execution_count": 26,
   "id": "1135c8e9",
   "metadata": {},
   "outputs": [],
   "source": [
    "missing_Piping = ['truefalsefalsefalsefalsefalsefalsefalsefalse',\n",
    "                  'falsefalsefalsefalsefalsetruefalsefalsefalse',\n",
    "                  'Other (Specify)',\n",
    "                 'falsefalsefalsetruefalsefalsefalsefalsefalse',\n",
    "                 'falsefalsefalsetruefalsefalsefalsefalsefalse',\n",
    "                 'falsefalsefalsefalsefalsefalsefalsefalsefalse',\n",
    "                 ]"
   ]
  },
  {
   "cell_type": "code",
   "execution_count": 27,
   "id": "18f5b99f",
   "metadata": {},
   "outputs": [],
   "source": [
    "def Cons_pip(x):\n",
    "    if x  in missing_Piping:\n",
    "        return df['Construction Type - Piping'].mode()[0]\n",
    "    elif x=='Galvonized Steel' :\n",
    "        return 'Galvanized Steel'\n",
    "    else :\n",
    "        return x"
   ]
  },
  {
   "cell_type": "code",
   "execution_count": 28,
   "id": "47e62916",
   "metadata": {},
   "outputs": [],
   "source": [
    "df['Construction Type - Piping'] = df['Construction Type - Piping'].apply(Cons_pip)"
   ]
  },
  {
   "cell_type": "code",
   "execution_count": 160,
   "id": "0d66e7b7",
   "metadata": {},
   "outputs": [
    {
     "data": {
      "text/plain": [
       "Galvanized Steel                                      20671\n",
       "Rigid Fiberglass Reinforced Plastic                    5614\n",
       "Epoxy Coated Steel                                     5231\n",
       "Bare Steel                                             3209\n",
       "Flexible Plastic                                       2695\n",
       "Copper                                                  281\n",
       "Semi-Rigid Plastic                                      137\n",
       "No Piping Associated with Tank or Aboveground Only       87\n",
       "Name: Construction Type - Piping, dtype: int64"
      ]
     },
     "execution_count": 160,
     "metadata": {},
     "output_type": "execute_result"
    }
   ],
   "source": [
    "df['Construction Type - Piping'].value_counts()"
   ]
  },
  {
   "cell_type": "markdown",
   "id": "66517b43",
   "metadata": {},
   "source": [
    "## Datetime"
   ]
  },
  {
   "cell_type": "code",
   "execution_count": 30,
   "id": "e418015b",
   "metadata": {},
   "outputs": [],
   "source": [
    "df['Installation Date'] = pd.to_datetime(df['Installation Date'])"
   ]
  },
  {
   "cell_type": "code",
   "execution_count": 31,
   "id": "a015fefd",
   "metadata": {},
   "outputs": [],
   "source": [
    "df['Installation year'] =df['Installation Date'].apply(lambda x : x.year )"
   ]
  },
  {
   "cell_type": "markdown",
   "id": "ffe09a47",
   "metadata": {},
   "source": [
    "## Find the distance  between Area and Tank\n",
    "to detect the outleirs and drop the columb\n"
   ]
  },
  {
   "cell_type": "code",
   "execution_count": 32,
   "id": "5df69335",
   "metadata": {},
   "outputs": [],
   "source": [
    "def distance (x): \n",
    "    lat = x['Tank Latitude']\n",
    "    lan = x['Tank Longitude']\n",
    "    start = (lat,lan)\n",
    "    lat1 = x['Area Latitude']\n",
    "    lan1 = x['Area Longitude']\n",
    "    end = (lat1,lan1)\n",
    "    return math.floor(great_circle(start,end).m)"
   ]
  },
  {
   "cell_type": "code",
   "execution_count": 33,
   "id": "4b07ca79",
   "metadata": {},
   "outputs": [],
   "source": [
    "df['Distance between A&T'] =df.apply(distance ,axis = 1)"
   ]
  },
  {
   "cell_type": "code",
   "execution_count": 34,
   "id": "2579de51",
   "metadata": {},
   "outputs": [],
   "source": [
    "from datasist.structdata import  detect_outliers"
   ]
  },
  {
   "cell_type": "code",
   "execution_count": 35,
   "id": "11cb5f95",
   "metadata": {},
   "outputs": [],
   "source": [
    "outleirs= detect_outliers(df,0,['Distance between A&T'])"
   ]
  },
  {
   "cell_type": "code",
   "execution_count": 36,
   "id": "bbee073d",
   "metadata": {},
   "outputs": [],
   "source": [
    "df.drop(outleirs,axis = 0,inplace=True)"
   ]
  },
  {
   "cell_type": "code",
   "execution_count": 37,
   "id": "bcbbe5cf",
   "metadata": {},
   "outputs": [],
   "source": [
    "df.drop('Distance between A&T',axis = 1 , inplace=True)"
   ]
  },
  {
   "cell_type": "markdown",
   "id": "50ceffaf",
   "metadata": {},
   "source": [
    "## Remove carrying tank capacity(gallons)  which qual 0"
   ]
  },
  {
   "cell_type": "code",
   "execution_count": 38,
   "id": "421974d1",
   "metadata": {},
   "outputs": [],
   "source": [
    "qual_0 = df[df['carrying tank capacity(gallons)']==0].index"
   ]
  },
  {
   "cell_type": "code",
   "execution_count": 39,
   "id": "2edf0ad2",
   "metadata": {},
   "outputs": [],
   "source": [
    "df.drop(qual_0,axis = 0 , inplace=True)"
   ]
  },
  {
   "cell_type": "code",
   "execution_count": 40,
   "id": "319a1ab5",
   "metadata": {},
   "outputs": [],
   "source": [
    "df.reset_index(inplace = True,drop=True)"
   ]
  },
  {
   "cell_type": "markdown",
   "id": "8c149e65",
   "metadata": {},
   "source": [
    "## Get tank age"
   ]
  },
  {
   "cell_type": "code",
   "execution_count": 41,
   "id": "17340f59",
   "metadata": {},
   "outputs": [],
   "source": [
    "from datetime import date , datetime"
   ]
  },
  {
   "cell_type": "code",
   "execution_count": 42,
   "id": "a91f6863",
   "metadata": {},
   "outputs": [],
   "source": [
    "df['Tank_age (years)'] =df['Installation year'].apply(lambda x :datetime.now().year - x )"
   ]
  },
  {
   "cell_type": "code",
   "execution_count": null,
   "id": "8cda5ef9",
   "metadata": {},
   "outputs": [],
   "source": []
  },
  {
   "cell_type": "code",
   "execution_count": null,
   "id": "e98712db",
   "metadata": {},
   "outputs": [],
   "source": []
  },
  {
   "cell_type": "markdown",
   "id": "97705777",
   "metadata": {},
   "source": [
    "# Creat a new columns \n",
    "to determine the degree of quality for every tank based on the count of features tank\n",
    "\n",
    "[Overfill Protection -Spill Protection-Tank protection]\n",
    "\n"
   ]
  },
  {
   "cell_type": "code",
   "execution_count": 43,
   "id": "4ae10ec8",
   "metadata": {},
   "outputs": [],
   "source": [
    "def count_features(x):\n",
    "    return len(x.split(','))\n",
    "def count_Spill (x):\n",
    "    return len(x.split('&'))"
   ]
  },
  {
   "cell_type": "code",
   "execution_count": 44,
   "id": "fedc07f1",
   "metadata": {},
   "outputs": [],
   "source": [
    "df['Spill Protection degree'] = df['Spill Protection'].apply(count_Spill)\n",
    "df['Tank Protection degree'] = df['Tank protection'].apply(count_features)\n",
    "df['Overfill Protection degree'] = df['Overfill Protection'].apply(count_features)"
   ]
  },
  {
   "cell_type": "code",
   "execution_count": 45,
   "id": "d153ef10",
   "metadata": {},
   "outputs": [],
   "source": [
    "df['Total Protection degree'] =df['Spill Protection degree']+df['Tank Protection degree']+df['Overfill Protection degree']"
   ]
  },
  {
   "cell_type": "code",
   "execution_count": 46,
   "id": "53c5ee66",
   "metadata": {},
   "outputs": [
    {
     "data": {
      "text/plain": [
       "3    9147\n",
       "7    7998\n",
       "8    7032\n",
       "5    6187\n",
       "6    4711\n",
       "4    2852\n",
       "Name: Total Protection degree, dtype: int64"
      ]
     },
     "execution_count": 46,
     "metadata": {},
     "output_type": "execute_result"
    }
   ],
   "source": [
    "df['Total Protection degree'].value_counts()"
   ]
  },
  {
   "cell_type": "code",
   "execution_count": 47,
   "id": "22d0a341",
   "metadata": {},
   "outputs": [],
   "source": [
    "def degree(x):\n",
    "    return x-2"
   ]
  },
  {
   "cell_type": "code",
   "execution_count": 48,
   "id": "6e65dab8",
   "metadata": {},
   "outputs": [],
   "source": [
    "df['Total Protection degree'] =df['Total Protection degree'].apply(degree)"
   ]
  },
  {
   "cell_type": "code",
   "execution_count": 49,
   "id": "d5cc727f",
   "metadata": {},
   "outputs": [
    {
     "data": {
      "text/plain": [
       "Hartford          1549\n",
       "New Haven         1442\n",
       "Bridgeport        1358\n",
       "Waterbury         1146\n",
       "Stamford           872\n",
       "                  ... \n",
       "Georgetown           1\n",
       "Pequabuck            1\n",
       "Yalesville           1\n",
       "Grosvenor Dale       1\n",
       "Green Farms          1\n",
       "Name: Area City, Length: 261, dtype: int64"
      ]
     },
     "execution_count": 49,
     "metadata": {},
     "output_type": "execute_result"
    }
   ],
   "source": [
    "df['Area City'].value_counts()"
   ]
  },
  {
   "cell_type": "code",
   "execution_count": 50,
   "id": "f35441e8",
   "metadata": {},
   "outputs": [],
   "source": [
    "col = ['Spill Protection degree','Total Protection degree','Tank Protection degree','Overfill Protection degree']"
   ]
  },
  {
   "cell_type": "markdown",
   "id": "c485c153",
   "metadata": {},
   "source": [
    "## ---------------------------------------------------------------------------------------------------------------"
   ]
  },
  {
   "cell_type": "markdown",
   "id": "ffd2d79e",
   "metadata": {},
   "source": [
    "# Analysis "
   ]
  },
  {
   "cell_type": "markdown",
   "id": "91b7f1a0",
   "metadata": {},
   "source": [
    "## What are the 20 largest cities has tanks  ?"
   ]
  },
  {
   "cell_type": "code",
   "execution_count": 51,
   "id": "48b0b029",
   "metadata": {},
   "outputs": [
    {
     "data": {
      "text/html": [
       "<div>\n",
       "<style scoped>\n",
       "    .dataframe tbody tr th:only-of-type {\n",
       "        vertical-align: middle;\n",
       "    }\n",
       "\n",
       "    .dataframe tbody tr th {\n",
       "        vertical-align: top;\n",
       "    }\n",
       "\n",
       "    .dataframe thead th {\n",
       "        text-align: right;\n",
       "    }\n",
       "</style>\n",
       "<table border=\"1\" class=\"dataframe\">\n",
       "  <thead>\n",
       "    <tr style=\"text-align: right;\">\n",
       "      <th></th>\n",
       "      <th>Tanks</th>\n",
       "    </tr>\n",
       "  </thead>\n",
       "  <tbody>\n",
       "    <tr>\n",
       "      <th>Hartford</th>\n",
       "      <td>1549</td>\n",
       "    </tr>\n",
       "    <tr>\n",
       "      <th>New Haven</th>\n",
       "      <td>1442</td>\n",
       "    </tr>\n",
       "    <tr>\n",
       "      <th>Bridgeport</th>\n",
       "      <td>1358</td>\n",
       "    </tr>\n",
       "    <tr>\n",
       "      <th>Waterbury</th>\n",
       "      <td>1146</td>\n",
       "    </tr>\n",
       "    <tr>\n",
       "      <th>Stamford</th>\n",
       "      <td>872</td>\n",
       "    </tr>\n",
       "    <tr>\n",
       "      <th>Danbury</th>\n",
       "      <td>727</td>\n",
       "    </tr>\n",
       "    <tr>\n",
       "      <th>Meriden</th>\n",
       "      <td>725</td>\n",
       "    </tr>\n",
       "    <tr>\n",
       "      <th>Milford</th>\n",
       "      <td>721</td>\n",
       "    </tr>\n",
       "    <tr>\n",
       "      <th>New Britain</th>\n",
       "      <td>687</td>\n",
       "    </tr>\n",
       "    <tr>\n",
       "      <th>West Hartford</th>\n",
       "      <td>683</td>\n",
       "    </tr>\n",
       "    <tr>\n",
       "      <th>Bristol</th>\n",
       "      <td>653</td>\n",
       "    </tr>\n",
       "    <tr>\n",
       "      <th>Stratford</th>\n",
       "      <td>634</td>\n",
       "    </tr>\n",
       "    <tr>\n",
       "      <th>Middletown</th>\n",
       "      <td>627</td>\n",
       "    </tr>\n",
       "    <tr>\n",
       "      <th>Manchester</th>\n",
       "      <td>605</td>\n",
       "    </tr>\n",
       "    <tr>\n",
       "      <th>West Haven</th>\n",
       "      <td>601</td>\n",
       "    </tr>\n",
       "    <tr>\n",
       "      <th>Norwalk</th>\n",
       "      <td>580</td>\n",
       "    </tr>\n",
       "    <tr>\n",
       "      <th>Wallingford</th>\n",
       "      <td>574</td>\n",
       "    </tr>\n",
       "    <tr>\n",
       "      <th>East Hartford</th>\n",
       "      <td>563</td>\n",
       "    </tr>\n",
       "    <tr>\n",
       "      <th>Groton</th>\n",
       "      <td>549</td>\n",
       "    </tr>\n",
       "    <tr>\n",
       "      <th>Hamden</th>\n",
       "      <td>529</td>\n",
       "    </tr>\n",
       "  </tbody>\n",
       "</table>\n",
       "</div>"
      ],
      "text/plain": [
       "               Tanks\n",
       "Hartford        1549\n",
       "New Haven       1442\n",
       "Bridgeport      1358\n",
       "Waterbury       1146\n",
       "Stamford         872\n",
       "Danbury          727\n",
       "Meriden          725\n",
       "Milford          721\n",
       "New Britain      687\n",
       "West Hartford    683\n",
       "Bristol          653\n",
       "Stratford        634\n",
       "Middletown       627\n",
       "Manchester       605\n",
       "West Haven       601\n",
       "Norwalk          580\n",
       "Wallingford      574\n",
       "East Hartford    563\n",
       "Groton           549\n",
       "Hamden           529"
      ]
     },
     "execution_count": 51,
     "metadata": {},
     "output_type": "execute_result"
    }
   ],
   "source": [
    "cities = df['Area City'].value_counts().head(20).to_frame('Tanks')\n",
    "cities"
   ]
  },
  {
   "cell_type": "code",
   "execution_count": 52,
   "id": "46e7d343",
   "metadata": {},
   "outputs": [
    {
     "data": {
      "text/plain": [
       "<AxesSubplot:xlabel='Tanks'>"
      ]
     },
     "execution_count": 52,
     "metadata": {},
     "output_type": "execute_result"
    },
    {
     "data": {
      "image/png": "[encoded data removed]",
      "text/plain": [
       "<Figure size 1080x360 with 1 Axes>"
      ]
     },
     "metadata": {},
     "output_type": "display_data"
    }
   ],
   "source": [
    "sns.barplot(data =cities , x = 'Tanks',y =  cities.index)"
   ]
  },
  {
   "cell_type": "markdown",
   "id": "f4ae7b8a",
   "metadata": {},
   "source": [
    "## What are the 10 largest Areas has tanks ?"
   ]
  },
  {
   "cell_type": "code",
   "execution_count": 53,
   "id": "508174e5",
   "metadata": {},
   "outputs": [],
   "source": [
    "Areas =df['Area Name'].value_counts().head(10).to_frame('Tanks')"
   ]
  },
  {
   "cell_type": "code",
   "execution_count": 54,
   "id": "23e98bcf",
   "metadata": {},
   "outputs": [
    {
     "data": {
      "text/plain": [
       "<AxesSubplot:xlabel='Tanks'>"
      ]
     },
     "execution_count": 54,
     "metadata": {},
     "output_type": "execute_result"
    },
    {
     "data": {
      "image/png": "[encoded data removed]",
      "text/plain": [
       "<Figure size 1080x360 with 1 Axes>"
      ]
     },
     "metadata": {},
     "output_type": "display_data"
    }
   ],
   "source": [
    "sns.barplot(data =Areas , x = 'Tanks',y =  Areas.index)"
   ]
  },
  {
   "cell_type": "markdown",
   "id": "b3bd254a",
   "metadata": {},
   "source": [
    "## show Closure Type"
   ]
  },
  {
   "cell_type": "code",
   "execution_count": 55,
   "id": "bf2f5173",
   "metadata": {},
   "outputs": [
    {
     "data": {
      "text/plain": [
       "<AxesSubplot:xlabel='count', ylabel='Closure Type'>"
      ]
     },
     "execution_count": 55,
     "metadata": {},
     "output_type": "execute_result"
    },
    {
     "data": {
      "image/png": "[encoded data removed]",
      "text/plain": [
       "<Figure size 1080x360 with 1 Axes>"
      ]
     },
     "metadata": {},
     "output_type": "display_data"
    }
   ],
   "source": [
    "sns.countplot(data = df, y = 'Closure Type')"
   ]
  },
  {
   "cell_type": "markdown",
   "id": "d36f125d",
   "metadata": {},
   "source": [
    "## which type in the Compartments"
   ]
  },
  {
   "cell_type": "code",
   "execution_count": 56,
   "id": "2b10e308",
   "metadata": {},
   "outputs": [
    {
     "data": {
      "text/plain": [
       "<AxesSubplot:xlabel='Compartment', ylabel='count'>"
      ]
     },
     "execution_count": 56,
     "metadata": {},
     "output_type": "execute_result"
    },
    {
     "data": {
      "image/png": "[encoded data removed]",
      "text/plain": [
       "<Figure size 1080x360 with 1 Axes>"
      ]
     },
     "metadata": {},
     "output_type": "display_data"
    }
   ],
   "source": [
    "sns.countplot(data = df, x = 'Compartment',hue='Closure Type')"
   ]
  },
  {
   "cell_type": "markdown",
   "id": "ef4fa678",
   "metadata": {},
   "source": [
    "## where is the propene?"
   ]
  },
  {
   "cell_type": "code",
   "execution_count": 57,
   "id": "1c42d3c4",
   "metadata": {},
   "outputs": [
    {
     "data": {
      "text/plain": [
       "Index(['Stratford', 'West Hartford', 'Storrs Mansfield', 'Hartford',\n",
       "       'Willington', 'Vernon Rockville', 'Groton', 'Wallingford', 'Sharon',\n",
       "       'Branford', 'Plainville', 'Bristol', 'Waterbury', 'New Britain',\n",
       "       'Niantic', 'Windsor', 'Westport', 'Moosup', 'Windsor Locks',\n",
       "       'North Windham', 'Cos Cob', 'Milford', 'Pawcatuck', 'Litchfield',\n",
       "       'South Windsor', 'Milldale', 'Colchester', 'Simsbury', 'Brookfield',\n",
       "       'Norwich', 'Fairfield', 'Southington', 'West Haven', 'East Windsor',\n",
       "       'New Haven', 'Middletown', 'Stamford', 'North Haven', 'Rocky Hill',\n",
       "       'Old Saybrook'],\n",
       "      dtype='object')"
      ]
     },
     "execution_count": 57,
     "metadata": {},
     "output_type": "execute_result"
    }
   ],
   "source": [
    "df[df['Substance Currently Stored']=='propene']['Area City'].value_counts().index"
   ]
  },
  {
   "cell_type": "code",
   "execution_count": 58,
   "id": "3ed01412",
   "metadata": {},
   "outputs": [
    {
     "data": {
      "text/plain": [
       "1031947"
      ]
     },
     "execution_count": 58,
     "metadata": {},
     "output_type": "execute_result"
    }
   ],
   "source": [
    "size_propene= df[df['Substance Currently Stored']=='propene']['carrying tank capacity(gallons)'].sum()\n",
    "size_propene"
   ]
  },
  {
   "cell_type": "markdown",
   "id": "2f00308f",
   "metadata": {},
   "source": [
    "## where is the Biodiesel and what its size?"
   ]
  },
  {
   "cell_type": "code",
   "execution_count": 59,
   "id": "33cef715",
   "metadata": {},
   "outputs": [
    {
     "data": {
      "text/plain": [
       "Index(['Stamford', 'Middletown', 'Cheshire', 'Waterbury', 'Willington',\n",
       "       'Westport'],\n",
       "      dtype='object')"
      ]
     },
     "execution_count": 59,
     "metadata": {},
     "output_type": "execute_result"
    }
   ],
   "source": [
    "df[df['Substance Currently Stored']=='Biodiesel']['Area City'].value_counts().index"
   ]
  },
  {
   "cell_type": "code",
   "execution_count": 60,
   "id": "a4ba416c",
   "metadata": {},
   "outputs": [
    {
     "data": {
      "text/plain": [
       "76500"
      ]
     },
     "execution_count": 60,
     "metadata": {},
     "output_type": "execute_result"
    }
   ],
   "source": [
    "size_Biodiesel = df[df['Substance Currently Stored']=='Biodiesel']['carrying tank capacity(gallons)'].sum()\n",
    "size_Biodiesel"
   ]
  },
  {
   "cell_type": "markdown",
   "id": "382b28e2",
   "metadata": {},
   "source": [
    "## What is the size of the tank which is runing  ?\n",
    "\n",
    "stock Tank is runing underground"
   ]
  },
  {
   "cell_type": "code",
   "execution_count": 61,
   "id": "526d8a50",
   "metadata": {},
   "outputs": [
    {
     "name": "stdout",
     "output_type": "stream",
     "text": [
      "136432265 gallons\n"
     ]
    }
   ],
   "source": [
    "print(df[df['Status of Tank']=='Tank is runing underground']['carrying tank capacity(gallons)'].sum() ,'gallons')"
   ]
  },
  {
   "cell_type": "markdown",
   "id": "deecb087",
   "metadata": {},
   "source": [
    "## What is the size of the tanks which is runing ?"
   ]
  },
  {
   "cell_type": "code",
   "execution_count": 62,
   "id": "65aee60e",
   "metadata": {},
   "outputs": [
    {
     "name": "stdout",
     "output_type": "stream",
     "text": [
      "160797359 gallons\n"
     ]
    }
   ],
   "source": [
    "print(df[df['Closure Type']=='Permanently Closed']['carrying tank capacity(gallons)'].sum() ,'gallons')"
   ]
  },
  {
   "cell_type": "markdown",
   "id": "390554aa",
   "metadata": {},
   "source": [
    "## What year was the largest volume of gallons launched?"
   ]
  },
  {
   "cell_type": "code",
   "execution_count": 63,
   "id": "4d4e5afd",
   "metadata": {},
   "outputs": [],
   "source": [
    "index_of_years = df['Installation year'].value_counts().index"
   ]
  },
  {
   "cell_type": "code",
   "execution_count": 64,
   "id": "4ed462e4",
   "metadata": {},
   "outputs": [],
   "source": [
    "year= {}"
   ]
  },
  {
   "cell_type": "code",
   "execution_count": 65,
   "id": "f337201d",
   "metadata": {},
   "outputs": [],
   "source": [
    "for i in index_of_years :\n",
    "    y = df[df['Installation year']== i]['carrying tank capacity(gallons)'].sum() \n",
    "    year.update({y:i})"
   ]
  },
  {
   "cell_type": "code",
   "execution_count": 66,
   "id": "00d9bcb1",
   "metadata": {},
   "outputs": [
    {
     "data": {
      "text/plain": [
       "1950"
      ]
     },
     "execution_count": 66,
     "metadata": {},
     "output_type": "execute_result"
    }
   ],
   "source": [
    "year[max(year.keys())]"
   ]
  },
  {
   "cell_type": "code",
   "execution_count": null,
   "id": "571e8398",
   "metadata": {},
   "outputs": [],
   "source": []
  },
  {
   "cell_type": "markdown",
   "id": "3e9ed3f0",
   "metadata": {},
   "source": [
    "## What year was the tanks with 'Temporarily Closed' starts ?"
   ]
  },
  {
   "cell_type": "code",
   "execution_count": 67,
   "id": "8c140bb1",
   "metadata": {},
   "outputs": [
    {
     "data": {
      "text/plain": [
       "1989"
      ]
     },
     "execution_count": 67,
     "metadata": {},
     "output_type": "execute_result"
    }
   ],
   "source": [
    "df[df['Closure Type'] =='Temporarily Closed']['Installation year'].value_counts().index[0]"
   ]
  },
  {
   "cell_type": "markdown",
   "id": "2d326c9d",
   "metadata": {},
   "source": [
    "## Average  Protection degree for each Construction Type"
   ]
  },
  {
   "cell_type": "code",
   "execution_count": 68,
   "id": "f329001e",
   "metadata": {},
   "outputs": [
    {
     "data": {
      "text/plain": [
       "<AxesSubplot:xlabel='Total Protection degree', ylabel='Construction Type - Tank'>"
      ]
     },
     "execution_count": 68,
     "metadata": {},
     "output_type": "execute_result"
    },
    {
     "data": {
      "image/png": "[encoded data removed]",
      "text/plain": [
       "<Figure size 1080x360 with 1 Axes>"
      ]
     },
     "metadata": {},
     "output_type": "display_data"
    }
   ],
   "source": [
    "sns.barplot(data = df.groupby('Construction Type - Tank').mean(),\n",
    "            y = df.groupby('Construction Type - Tank').mean().index ,\n",
    "            x= 'Total Protection degree')"
   ]
  },
  {
   "cell_type": "markdown",
   "id": "c376b526",
   "metadata": {},
   "source": [
    "## Average Protection degree for each Construction Type Piping"
   ]
  },
  {
   "cell_type": "code",
   "execution_count": 69,
   "id": "52616733",
   "metadata": {},
   "outputs": [
    {
     "data": {
      "text/plain": [
       "<AxesSubplot:xlabel='Total Protection degree', ylabel='Construction Type - Piping'>"
      ]
     },
     "execution_count": 69,
     "metadata": {},
     "output_type": "execute_result"
    },
    {
     "data": {
      "image/png": "[encoded data removed]",
      "text/plain": [
       "<Figure size 1080x360 with 1 Axes>"
      ]
     },
     "metadata": {},
     "output_type": "display_data"
    }
   ],
   "source": [
    "sns.pointplot(data = df.groupby('Construction Type - Piping').mean(),\n",
    "            y = df.groupby('Construction Type - Piping').mean().index ,\n",
    "            x= 'Total Protection degree')"
   ]
  },
  {
   "cell_type": "markdown",
   "id": "5a8a5256",
   "metadata": {},
   "source": [
    "## Average gallons for each Substance Currently Stored"
   ]
  },
  {
   "cell_type": "code",
   "execution_count": 70,
   "id": "60064798",
   "metadata": {},
   "outputs": [
    {
     "data": {
      "text/plain": [
       "<AxesSubplot:xlabel='carrying tank capacity(gallons)', ylabel='Substance Currently Stored'>"
      ]
     },
     "execution_count": 70,
     "metadata": {},
     "output_type": "execute_result"
    },
    {
     "data": {
      "image/png": "[encoded data removed]",
      "text/plain": [
       "<Figure size 1080x360 with 1 Axes>"
      ]
     },
     "metadata": {},
     "output_type": "display_data"
    }
   ],
   "source": [
    "sns.barplot(data = df.groupby('Substance Currently Stored').mean(),\n",
    "            y = df.groupby('Substance Currently Stored').mean().index ,\n",
    "            x= 'carrying tank capacity(gallons)')"
   ]
  },
  {
   "cell_type": "markdown",
   "id": "fedf8dc7",
   "metadata": {},
   "source": [
    "size of gallons for each Substance Currently Stored"
   ]
  },
  {
   "cell_type": "code",
   "execution_count": 71,
   "id": "0182cc17",
   "metadata": {
    "scrolled": false
   },
   "outputs": [
    {
     "data": {
      "text/html": [
       "<div>\n",
       "<style scoped>\n",
       "    .dataframe tbody tr th:only-of-type {\n",
       "        vertical-align: middle;\n",
       "    }\n",
       "\n",
       "    .dataframe tbody tr th {\n",
       "        vertical-align: top;\n",
       "    }\n",
       "\n",
       "    .dataframe thead th {\n",
       "        text-align: right;\n",
       "    }\n",
       "</style>\n",
       "<table border=\"1\" class=\"dataframe\">\n",
       "  <thead>\n",
       "    <tr style=\"text-align: right;\">\n",
       "      <th></th>\n",
       "      <th>size gallons</th>\n",
       "    </tr>\n",
       "    <tr>\n",
       "      <th>Substance Currently Stored</th>\n",
       "      <th></th>\n",
       "    </tr>\n",
       "  </thead>\n",
       "  <tbody>\n",
       "    <tr>\n",
       "      <th>Gasoline</th>\n",
       "      <td>118947516</td>\n",
       "    </tr>\n",
       "    <tr>\n",
       "      <th>Heating Oil</th>\n",
       "      <td>59905425</td>\n",
       "    </tr>\n",
       "    <tr>\n",
       "      <th>Diesel</th>\n",
       "      <td>24704951</td>\n",
       "    </tr>\n",
       "    <tr>\n",
       "      <th>Hazardous Substance</th>\n",
       "      <td>3625740</td>\n",
       "    </tr>\n",
       "    <tr>\n",
       "      <th>Used Oil</th>\n",
       "      <td>2560317</td>\n",
       "    </tr>\n",
       "    <tr>\n",
       "      <th>Kerosene</th>\n",
       "      <td>2367937</td>\n",
       "    </tr>\n",
       "    <tr>\n",
       "      <th>propene</th>\n",
       "      <td>1031947</td>\n",
       "    </tr>\n",
       "    <tr>\n",
       "      <th>Ethanol</th>\n",
       "      <td>126000</td>\n",
       "    </tr>\n",
       "    <tr>\n",
       "      <th>Biodiesel</th>\n",
       "      <td>76500</td>\n",
       "    </tr>\n",
       "    <tr>\n",
       "      <th>Lubricating Oils</th>\n",
       "      <td>52000</td>\n",
       "    </tr>\n",
       "  </tbody>\n",
       "</table>\n",
       "</div>"
      ],
      "text/plain": [
       "                            size gallons\n",
       "Substance Currently Stored              \n",
       "Gasoline                       118947516\n",
       "Heating Oil                     59905425\n",
       "Diesel                          24704951\n",
       "Hazardous Substance              3625740\n",
       "Used Oil                         2560317\n",
       "Kerosene                         2367937\n",
       "propene                          1031947\n",
       "Ethanol                           126000\n",
       "Biodiesel                          76500\n",
       "Lubricating Oils                   52000"
      ]
     },
     "execution_count": 71,
     "metadata": {},
     "output_type": "execute_result"
    }
   ],
   "source": [
    "size =df.groupby('Substance Currently Stored').sum()['carrying tank capacity(gallons)'].sort_values(ascending=False).to_frame('size gallons') \n",
    "size"
   ]
  },
  {
   "cell_type": "code",
   "execution_count": 72,
   "id": "22144eff",
   "metadata": {},
   "outputs": [
    {
     "data": {
      "text/plain": [
       "<AxesSubplot:xlabel='size gallons', ylabel='Substance Currently Stored'>"
      ]
     },
     "execution_count": 72,
     "metadata": {},
     "output_type": "execute_result"
    },
    {
     "data": {
      "image/png": "[encoded data removed]",
      "text/plain": [
       "<Figure size 1080x360 with 1 Axes>"
      ]
     },
     "metadata": {},
     "output_type": "display_data"
    }
   ],
   "source": [
    "sns.barplot(data = size , x = 'size gallons',y = size.index)"
   ]
  },
  {
   "cell_type": "markdown",
   "id": "9209f450",
   "metadata": {},
   "source": [
    "## \n",
    "Despite the increase in the volume of gasoline, the average biodiesel and propane tanks are good\n"
   ]
  },
  {
   "cell_type": "markdown",
   "id": "f48165e5",
   "metadata": {},
   "source": [
    "## Average age \n",
    "for tanks that is runing and the abandoned "
   ]
  },
  {
   "cell_type": "code",
   "execution_count": 73,
   "id": "7ad1dc1d",
   "metadata": {},
   "outputs": [
    {
     "data": {
      "text/plain": [
       "Status of Tank\n",
       "Tank is runing underground      51.740455\n",
       "Tank was Abandoned in Ground    34.411914\n",
       "Name: Tank_age (years), dtype: float64"
      ]
     },
     "execution_count": 73,
     "metadata": {},
     "output_type": "execute_result"
    }
   ],
   "source": [
    "df.groupby('Status of Tank').mean()['Tank_age (years)']"
   ]
  },
  {
   "cell_type": "markdown",
   "id": "a5cff15a",
   "metadata": {},
   "source": [
    "## There were tanks was Abandoned in Ground what about Protection\n"
   ]
  },
  {
   "cell_type": "markdown",
   "id": "ce7c9f68",
   "metadata": {},
   "source": [
    " "
   ]
  },
  {
   "cell_type": "markdown",
   "id": "231946d3",
   "metadata": {},
   "source": [
    "Is Construction Tank plays role ?"
   ]
  },
  {
   "cell_type": "code",
   "execution_count": 74,
   "id": "a165c136",
   "metadata": {},
   "outputs": [],
   "source": [
    "Protection = df.pivot_table(values= 'Total Protection degree',index='Construction Type - Tank',columns='Status of Tank', aggfunc='mean')"
   ]
  },
  {
   "cell_type": "code",
   "execution_count": 75,
   "id": "d6b37038",
   "metadata": {},
   "outputs": [
    {
     "data": {
      "text/plain": [
       "<AxesSubplot:xlabel='Status of Tank', ylabel='Construction Type - Tank'>"
      ]
     },
     "execution_count": 75,
     "metadata": {},
     "output_type": "execute_result"
    },
    {
     "data": {
      "image/png": "[encoded data removed]",
      "text/plain": [
       "<Figure size 1080x360 with 2 Axes>"
      ]
     },
     "metadata": {},
     "output_type": "display_data"
    }
   ],
   "source": [
    "sns.heatmap(data = Protection,annot = True ) "
   ]
  },
  {
   "cell_type": "markdown",
   "id": "d4935f69",
   "metadata": {},
   "source": [
    "yes , Construction Piping has role"
   ]
  },
  {
   "cell_type": "markdown",
   "id": "7eaf273e",
   "metadata": {},
   "source": [
    " "
   ]
  },
  {
   "cell_type": "markdown",
   "id": "10e18319",
   "metadata": {},
   "source": [
    "Is Construction Piping plays role ?"
   ]
  },
  {
   "cell_type": "code",
   "execution_count": 76,
   "id": "32612680",
   "metadata": {},
   "outputs": [],
   "source": [
    "Protection1 = df.pivot_table(values= 'Total Protection degree',index='Construction Type - Piping',columns='Status of Tank', aggfunc='mean')"
   ]
  },
  {
   "cell_type": "code",
   "execution_count": 77,
   "id": "8ea89141",
   "metadata": {},
   "outputs": [
    {
     "data": {
      "text/plain": [
       "<AxesSubplot:xlabel='Status of Tank', ylabel='Construction Type - Piping'>"
      ]
     },
     "execution_count": 77,
     "metadata": {},
     "output_type": "execute_result"
    },
    {
     "data": {
      "image/png": "[encoded data removed]",
      "text/plain": [
       "<Figure size 1080x360 with 2 Axes>"
      ]
     },
     "metadata": {},
     "output_type": "display_data"
    }
   ],
   "source": [
    "sns.heatmap(data = Protection1,annot = True ) "
   ]
  },
  {
   "cell_type": "markdown",
   "id": "cf64f34b",
   "metadata": {},
   "source": [
    "yes , Construction Piping  has role"
   ]
  },
  {
   "cell_type": "markdown",
   "id": "6812331c",
   "metadata": {},
   "source": [
    " "
   ]
  },
  {
   "cell_type": "markdown",
   "id": "681dff3c",
   "metadata": {},
   "source": [
    "Is Closure Type plays role ?"
   ]
  },
  {
   "cell_type": "code",
   "execution_count": 78,
   "id": "71991d52",
   "metadata": {},
   "outputs": [
    {
     "data": {
      "text/plain": [
       "<AxesSubplot:xlabel='Total Protection degree', ylabel='Closure Type'>"
      ]
     },
     "execution_count": 78,
     "metadata": {},
     "output_type": "execute_result"
    },
    {
     "data": {
      "image/png": "[encoded data removed]",
      "text/plain": [
       "<Figure size 1080x360 with 1 Axes>"
      ]
     },
     "metadata": {},
     "output_type": "display_data"
    }
   ],
   "source": [
    "sns.lineplot(data = df , x = 'Total Protection degree',hue = 'Status of Tank',y = 'Closure Type')"
   ]
  },
  {
   "cell_type": "markdown",
   "id": "cb9bbd75",
   "metadata": {},
   "source": [
    "yes , Closure Type has role"
   ]
  },
  {
   "cell_type": "markdown",
   "id": "8192abe6",
   "metadata": {},
   "source": [
    " "
   ]
  },
  {
   "cell_type": "markdown",
   "id": "e73d57ae",
   "metadata": {},
   "source": [
    "Is the age of tank plays role ? "
   ]
  },
  {
   "cell_type": "code",
   "execution_count": 79,
   "id": "2b262bbf",
   "metadata": {},
   "outputs": [
    {
     "data": {
      "text/plain": [
       "Status of Tank\n",
       "Tank is runing underground      51.740455\n",
       "Tank was Abandoned in Ground    34.411914\n",
       "Name: Tank_age (years), dtype: float64"
      ]
     },
     "execution_count": 79,
     "metadata": {},
     "output_type": "execute_result"
    }
   ],
   "source": [
    "df.groupby('Status of Tank').mean()['Tank_age (years)']"
   ]
  },
  {
   "cell_type": "markdown",
   "id": "6845782b",
   "metadata": {},
   "source": [
    "No , age has no role "
   ]
  },
  {
   "cell_type": "code",
   "execution_count": null,
   "id": "3f9e35bc",
   "metadata": {},
   "outputs": [],
   "source": []
  },
  {
   "cell_type": "code",
   "execution_count": null,
   "id": "541d4488",
   "metadata": {},
   "outputs": [],
   "source": []
  },
  {
   "cell_type": "markdown",
   "id": "9dc5ccfa",
   "metadata": {},
   "source": [
    "## Is the Area Address plays role in  abandoning in Ground ?"
   ]
  },
  {
   "cell_type": "markdown",
   "id": "d266d8de",
   "metadata": {},
   "source": [
    "count the ratio of tanks that were abandoned in Ground from all the tanks \n",
    "implement on top 50 area Address"
   ]
  },
  {
   "cell_type": "code",
   "execution_count": 80,
   "id": "da292cb9",
   "metadata": {},
   "outputs": [],
   "source": [
    "address = df[df['Status of Tank']=='Tank was Abandoned in Ground']['Area Address'].value_counts().head(50)"
   ]
  },
  {
   "cell_type": "code",
   "execution_count": 81,
   "id": "3d25b1cc",
   "metadata": {},
   "outputs": [],
   "source": [
    "rate = []\n",
    "area = []"
   ]
  },
  {
   "cell_type": "code",
   "execution_count": 82,
   "id": "fd6337ae",
   "metadata": {},
   "outputs": [],
   "source": [
    "address = df[df['Status of Tank']=='Tank was Abandoned in Ground']['Area Address'].value_counts().head(50)"
   ]
  },
  {
   "cell_type": "code",
   "execution_count": 83,
   "id": "f828c91c",
   "metadata": {},
   "outputs": [
    {
     "data": {
      "text/plain": [
       "1 charter oak blvd                 27\n",
       "Centennial ave.                    24\n",
       "856 echo lake rd                   21\n",
       "281 silver sands rd                19\n",
       "1875 meriden-waterbury turnpike    16\n",
       "314 rope ferry rd                  16\n",
       "327 ruby rd                        15\n",
       "939 barnum ave                     15\n",
       "2191 straits tnpk                  14\n",
       "3 e industrial rd                  14\n",
       "550 main st                        13\n",
       "290 pratt st                       13\n",
       "Cheney drive                       13\n",
       "2909 main st                       13\n",
       "Stoddard drive                     12\n",
       "695 high st                        12\n",
       "Centennial ave                     12\n",
       "528 s cherry st                    12\n",
       "225 episcopal rd                   11\n",
       "1975 barnum ave                    11\n",
       "440 main st                        11\n",
       "37 e aurora st                     11\n",
       "450 barnum ave                     11\n",
       "280 elm st                         11\n",
       "West connector rd                  11\n",
       "12 new haven ave                   11\n",
       "551 main ave                       11\n",
       "300 cedar st                       11\n",
       "427-431 howe ave.                  11\n",
       "190 w main st                      10\n",
       "80 seymour st                      10\n",
       "Park st.                           10\n",
       "549 so leonard st                  10\n",
       "109 berlin tpke                    10\n",
       "100 leibert rd                     10\n",
       "61 chapel st                       10\n",
       "77 washington ave                  10\n",
       "9 stonegate rd                     10\n",
       "301 berlin tpke                    10\n",
       "55 daggett st                      10\n",
       "690 asylum ave                     10\n",
       "85 mill plain rd                   10\n",
       "218 surrey dr                      10\n",
       "667 coe ave                         9\n",
       "25 depot hill rd                    9\n",
       "1 aircraft rd                       9\n",
       "15 boyden st                        9\n",
       "20 westminster rd                   9\n",
       "51 franklin st                      9\n",
       "1520 wolcott rd                     9\n",
       "Name: Area Address, dtype: int64"
      ]
     },
     "execution_count": 83,
     "metadata": {},
     "output_type": "execute_result"
    }
   ],
   "source": [
    "address"
   ]
  },
  {
   "cell_type": "code",
   "execution_count": 84,
   "id": "40e57c35",
   "metadata": {},
   "outputs": [],
   "source": [
    "for x in address.index :\n",
    "    num  = df[df['Area Address']== x]['Status of Tank'].value_counts()['Tank was Abandoned in Ground']\n",
    "    percent = df[df['Area Address']== x]['Status of Tank'].value_counts()[0] + [1][0]\n",
    "    rate.append(math.floor(num/percent*100))\n",
    "    area.append(x)\n"
   ]
  },
  {
   "cell_type": "code",
   "execution_count": 85,
   "id": "74d863fc",
   "metadata": {},
   "outputs": [],
   "source": [
    "ratio = pd.DataFrame(rate,index=area,columns =['percent']).sort_values(by = 'percent')\n"
   ]
  },
  {
   "cell_type": "code",
   "execution_count": 86,
   "id": "a42561c8",
   "metadata": {},
   "outputs": [
    {
     "data": {
      "text/plain": [
       "<AxesSubplot:xlabel='Density', ylabel='percent'>"
      ]
     },
     "execution_count": 86,
     "metadata": {},
     "output_type": "execute_result"
    },
    {
     "data": {
      "image/png": "[encoded data removed]",
      "text/plain": [
       "<Figure size 1080x360 with 1 Axes>"
      ]
     },
     "metadata": {},
     "output_type": "display_data"
    }
   ],
   "source": [
    "sns.kdeplot(data = ratio , y ='percent')"
   ]
  },
  {
   "cell_type": "code",
   "execution_count": null,
   "id": "0aa77c70",
   "metadata": {},
   "outputs": [],
   "source": []
  },
  {
   "cell_type": "code",
   "execution_count": null,
   "id": "af1f0d64",
   "metadata": {},
   "outputs": [],
   "source": []
  },
  {
   "cell_type": "markdown",
   "id": "9d8f7be1",
   "metadata": {},
   "source": [
    "# Machin learing"
   ]
  },
  {
   "cell_type": "markdown",
   "id": "1d562b09",
   "metadata": {},
   "source": [
    "## \n",
    "make prediction about the Status of Tanks\n",
    " - to predict if the tank was Abandoned in Ground or still running\n",
    " - to predict the future tank that will be Abandoned "
   ]
  },
  {
   "cell_type": "code",
   "execution_count": 87,
   "id": "2883d04a",
   "metadata": {},
   "outputs": [],
   "source": [
    "from sklearn.preprocessing import StandardScaler , RobustScaler , MinMaxScaler\n",
    "from sklearn.tree import DecisionTreeClassifier\n",
    "from sklearn.ensemble import RandomForestClassifier , VotingClassifier\n",
    "from xgboost import XGBClassifier\n",
    "from sklearn.naive_bayes import MultinomialNB , GaussianNB\n",
    "from sklearn.svm import SVC\n",
    "from sklearn.linear_model import LogisticRegression\n",
    "from sklearn.neighbors import KNeighborsClassifier\n",
    "from sklearn.pipeline import Pipeline\n",
    "from sklearn.model_selection import cross_validate "
   ]
  },
  {
   "cell_type": "code",
   "execution_count": 88,
   "id": "5d3b483b",
   "metadata": {},
   "outputs": [],
   "source": [
    "from sklearn.pipeline import Pipeline\n",
    "from sklearn.cluster import AgglomerativeClustering ,k_means\n",
    "from sklearn.preprocessing import MinMaxScaler , StandardScaler , normalize , RobustScaler , OneHotEncoder \n",
    "from sklearn.linear_model import LinearRegression ,LogisticRegression\n",
    "from sklearn.compose import ColumnTransformer \n",
    "from sklearn.model_selection import cross_validate \n",
    "from sklearn.neighbors import KNeighborsClassifier\n",
    "from category_encoders import BinaryEncoder\n"
   ]
  },
  {
   "cell_type": "markdown",
   "id": "67a08f91",
   "metadata": {},
   "source": [
    "## Using pipeline module"
   ]
  },
  {
   "cell_type": "code",
   "execution_count": 89,
   "id": "2c86caeb",
   "metadata": {},
   "outputs": [],
   "source": [
    "# to encoding OneHotEncoder\n",
    "\n",
    "columns = ['Closure Type','Compartment',\n",
    "           'Substance Currently Stored',\n",
    "           'Construction Type - Tank','Construction Type - Piping',\n",
    "           'Overfill Protection','Spill Protection','Tank protection']"
   ]
  },
  {
   "cell_type": "code",
   "execution_count": 90,
   "id": "523762cf",
   "metadata": {},
   "outputs": [],
   "source": [
    "# to encoding BinaryEncoder\n",
    "\n",
    "columns1 = ['Area Address','Area City','Site Zip','Tank Num']"
   ]
  },
  {
   "cell_type": "code",
   "execution_count": 91,
   "id": "05ab1240",
   "metadata": {},
   "outputs": [],
   "source": [
    "# to Scaling\n",
    "\n",
    "columns2 = ['Site Zip','carrying tank capacity(gallons)',\n",
    "            'Tank Latitude','Tank Longitude','Area Latitude',\n",
    "            'Area Longitude','Tank_age (years)']"
   ]
  },
  {
   "cell_type": "code",
   "execution_count": 92,
   "id": "1021bcb0",
   "metadata": {},
   "outputs": [],
   "source": [
    "encodeing = OneHotEncoder(drop = 'first',sparse=False)\n",
    "encodeing1 = BinaryEncoder()\n",
    "Scaler = StandardScaler()"
   ]
  },
  {
   "cell_type": "code",
   "execution_count": 93,
   "id": "1e5084b0",
   "metadata": {},
   "outputs": [],
   "source": [
    "encoder =ColumnTransformer(transformers = [\n",
    "   (('encoder',encodeing, columns)),(('encoder1',encodeing1,columns1)),(('Scaler',Scaler,columns2))],\n",
    "                           remainder = 'passthrough')"
   ]
  },
  {
   "cell_type": "code",
   "execution_count": 94,
   "id": "58dce421",
   "metadata": {},
   "outputs": [
    {
     "data": {
      "text/html": [
       "<style>#sk-container-id-1 {color: black;background-color: white;}#sk-container-id-1 pre{padding: 0;}#sk-container-id-1 div.sk-toggleable {background-color: white;}#sk-container-id-1 label.sk-toggleable__label {cursor: pointer;display: block;width: 100%;margin-bottom: 0;padding: 0.3em;box-sizing: border-box;text-align: center;}#sk-container-id-1 label.sk-toggleable__label-arrow:before {content: \"▸\";float: left;margin-right: 0.25em;color: #696969;}#sk-container-id-1 label.sk-toggleable__label-arrow:hover:before {color: black;}#sk-container-id-1 div.sk-estimator:hover label.sk-toggleable__label-arrow:before {color: black;}#sk-container-id-1 div.sk-toggleable__content {max-height: 0;max-width: 0;overflow: hidden;text-align: left;background-color: #f0f8ff;}#sk-container-id-1 div.sk-toggleable__content pre {margin: 0.2em;color: black;border-radius: 0.25em;background-color: #f0f8ff;}#sk-container-id-1 input.sk-toggleable__control:checked~div.sk-toggleable__content {max-height: 200px;max-width: 100%;overflow: auto;}#sk-container-id-1 input.sk-toggleable__control:checked~label.sk-toggleable__label-arrow:before {content: \"▾\";}#sk-container-id-1 div.sk-estimator input.sk-toggleable__control:checked~label.sk-toggleable__label {background-color: #d4ebff;}#sk-container-id-1 div.sk-label input.sk-toggleable__control:checked~label.sk-toggleable__label {background-color: #d4ebff;}#sk-container-id-1 input.sk-hidden--visually {border: 0;clip: rect(1px 1px 1px 1px);clip: rect(1px, 1px, 1px, 1px);height: 1px;margin: -1px;overflow: hidden;padding: 0;position: absolute;width: 1px;}#sk-container-id-1 div.sk-estimator {font-family: monospace;background-color: #f0f8ff;border: 1px dotted black;border-radius: 0.25em;box-sizing: border-box;margin-bottom: 0.5em;}#sk-container-id-1 div.sk-estimator:hover {background-color: #d4ebff;}#sk-container-id-1 div.sk-parallel-item::after {content: \"\";width: 100%;border-bottom: 1px solid gray;flex-grow: 1;}#sk-container-id-1 div.sk-label:hover label.sk-toggleable__label {background-color: #d4ebff;}#sk-container-id-1 div.sk-serial::before {content: \"\";position: absolute;border-left: 1px solid gray;box-sizing: border-box;top: 0;bottom: 0;left: 50%;z-index: 0;}#sk-container-id-1 div.sk-serial {display: flex;flex-direction: column;align-items: center;background-color: white;padding-right: 0.2em;padding-left: 0.2em;position: relative;}#sk-container-id-1 div.sk-item {position: relative;z-index: 1;}#sk-container-id-1 div.sk-parallel {display: flex;align-items: stretch;justify-content: center;background-color: white;position: relative;}#sk-container-id-1 div.sk-item::before, #sk-container-id-1 div.sk-parallel-item::before {content: \"\";position: absolute;border-left: 1px solid gray;box-sizing: border-box;top: 0;bottom: 0;left: 50%;z-index: -1;}#sk-container-id-1 div.sk-parallel-item {display: flex;flex-direction: column;z-index: 1;position: relative;background-color: white;}#sk-container-id-1 div.sk-parallel-item:first-child::after {align-self: flex-end;width: 50%;}#sk-container-id-1 div.sk-parallel-item:last-child::after {align-self: flex-start;width: 50%;}#sk-container-id-1 div.sk-parallel-item:only-child::after {width: 0;}#sk-container-id-1 div.sk-dashed-wrapped {border: 1px dashed gray;margin: 0 0.4em 0.5em 0.4em;box-sizing: border-box;padding-bottom: 0.4em;background-color: white;}#sk-container-id-1 div.sk-label label {font-family: monospace;font-weight: bold;display: inline-block;line-height: 1.2em;}#sk-container-id-1 div.sk-label-container {text-align: center;}#sk-container-id-1 div.sk-container {/* jupyter's `normalize.less` sets `[hidden] { display: none; }` but bootstrap.min.css set `[hidden] { display: none !important; }` so we also need the `!important` here to be able to override the default hidden behavior on the sphinx rendered scikit-learn.org. See: https://github.com/scikit-learn/scikit-learn/issues/21755 */display: inline-block !important;position: relative;}#sk-container-id-1 div.sk-text-repr-fallback {display: none;}</style><div id=\"sk-container-id-1\" class=\"sk-top-container\"><div class=\"sk-text-repr-fallback\"><pre>ColumnTransformer(remainder=&#x27;passthrough&#x27;,\n",
       "                  transformers=[(&#x27;encoder&#x27;,\n",
       "                                 OneHotEncoder(drop=&#x27;first&#x27;, sparse=False),\n",
       "                                 [&#x27;Closure Type&#x27;, &#x27;Compartment&#x27;,\n",
       "                                  &#x27;Substance Currently Stored&#x27;,\n",
       "                                  &#x27;Construction Type - Tank&#x27;,\n",
       "                                  &#x27;Construction Type - Piping&#x27;,\n",
       "                                  &#x27;Overfill Protection&#x27;, &#x27;Spill Protection&#x27;,\n",
       "                                  &#x27;Tank protection&#x27;]),\n",
       "                                (&#x27;encoder1&#x27;, BinaryEncoder(),\n",
       "                                 [&#x27;Area Address&#x27;, &#x27;Area City&#x27;, &#x27;Site Zip&#x27;,\n",
       "                                  &#x27;Tank Num&#x27;]),\n",
       "                                (&#x27;Scaler&#x27;, StandardScaler(),\n",
       "                                 [&#x27;Site Zip&#x27;, &#x27;carrying tank capacity(gallons)&#x27;,\n",
       "                                  &#x27;Tank Latitude&#x27;, &#x27;Tank Longitude&#x27;,\n",
       "                                  &#x27;Area Latitude&#x27;, &#x27;Area Longitude&#x27;,\n",
       "                                  &#x27;Tank_age (years)&#x27;])])</pre><b>In a Jupyter environment, please rerun this cell to show the HTML representation or trust the notebook. <br />On GitHub, the HTML representation is unable to render, please try loading this page with nbviewer.org.</b></div><div class=\"sk-container\" hidden><div class=\"sk-item sk-dashed-wrapped\"><div class=\"sk-label-container\"><div class=\"sk-label sk-toggleable\"><input class=\"sk-toggleable__control sk-hidden--visually\" id=\"sk-estimator-id-1\" type=\"checkbox\" ><label for=\"sk-estimator-id-1\" class=\"sk-toggleable__label sk-toggleable__label-arrow\">ColumnTransformer</label><div class=\"sk-toggleable__content\"><pre>ColumnTransformer(remainder=&#x27;passthrough&#x27;,\n",
       "                  transformers=[(&#x27;encoder&#x27;,\n",
       "                                 OneHotEncoder(drop=&#x27;first&#x27;, sparse=False),\n",
       "                                 [&#x27;Closure Type&#x27;, &#x27;Compartment&#x27;,\n",
       "                                  &#x27;Substance Currently Stored&#x27;,\n",
       "                                  &#x27;Construction Type - Tank&#x27;,\n",
       "                                  &#x27;Construction Type - Piping&#x27;,\n",
       "                                  &#x27;Overfill Protection&#x27;, &#x27;Spill Protection&#x27;,\n",
       "                                  &#x27;Tank protection&#x27;]),\n",
       "                                (&#x27;encoder1&#x27;, BinaryEncoder(),\n",
       "                                 [&#x27;Area Address&#x27;, &#x27;Area City&#x27;, &#x27;Site Zip&#x27;,\n",
       "                                  &#x27;Tank Num&#x27;]),\n",
       "                                (&#x27;Scaler&#x27;, StandardScaler(),\n",
       "                                 [&#x27;Site Zip&#x27;, &#x27;carrying tank capacity(gallons)&#x27;,\n",
       "                                  &#x27;Tank Latitude&#x27;, &#x27;Tank Longitude&#x27;,\n",
       "                                  &#x27;Area Latitude&#x27;, &#x27;Area Longitude&#x27;,\n",
       "                                  &#x27;Tank_age (years)&#x27;])])</pre></div></div></div><div class=\"sk-parallel\"><div class=\"sk-parallel-item\"><div class=\"sk-item\"><div class=\"sk-label-container\"><div class=\"sk-label sk-toggleable\"><input class=\"sk-toggleable__control sk-hidden--visually\" id=\"sk-estimator-id-2\" type=\"checkbox\" ><label for=\"sk-estimator-id-2\" class=\"sk-toggleable__label sk-toggleable__label-arrow\">encoder</label><div class=\"sk-toggleable__content\"><pre>[&#x27;Closure Type&#x27;, &#x27;Compartment&#x27;, &#x27;Substance Currently Stored&#x27;, &#x27;Construction Type - Tank&#x27;, &#x27;Construction Type - Piping&#x27;, &#x27;Overfill Protection&#x27;, &#x27;Spill Protection&#x27;, &#x27;Tank protection&#x27;]</pre></div></div></div><div class=\"sk-serial\"><div class=\"sk-item\"><div class=\"sk-estimator sk-toggleable\"><input class=\"sk-toggleable__control sk-hidden--visually\" id=\"sk-estimator-id-3\" type=\"checkbox\" ><label for=\"sk-estimator-id-3\" class=\"sk-toggleable__label sk-toggleable__label-arrow\">OneHotEncoder</label><div class=\"sk-toggleable__content\"><pre>OneHotEncoder(drop=&#x27;first&#x27;, sparse=False)</pre></div></div></div></div></div></div><div class=\"sk-parallel-item\"><div class=\"sk-item\"><div class=\"sk-label-container\"><div class=\"sk-label sk-toggleable\"><input class=\"sk-toggleable__control sk-hidden--visually\" id=\"sk-estimator-id-4\" type=\"checkbox\" ><label for=\"sk-estimator-id-4\" class=\"sk-toggleable__label sk-toggleable__label-arrow\">encoder1</label><div class=\"sk-toggleable__content\"><pre>[&#x27;Area Address&#x27;, &#x27;Area City&#x27;, &#x27;Site Zip&#x27;, &#x27;Tank Num&#x27;]</pre></div></div></div><div class=\"sk-serial\"><div class=\"sk-item\"><div class=\"sk-estimator sk-toggleable\"><input class=\"sk-toggleable__control sk-hidden--visually\" id=\"sk-estimator-id-5\" type=\"checkbox\" ><label for=\"sk-estimator-id-5\" class=\"sk-toggleable__label sk-toggleable__label-arrow\">BinaryEncoder</label><div class=\"sk-toggleable__content\"><pre>BinaryEncoder()</pre></div></div></div></div></div></div><div class=\"sk-parallel-item\"><div class=\"sk-item\"><div class=\"sk-label-container\"><div class=\"sk-label sk-toggleable\"><input class=\"sk-toggleable__control sk-hidden--visually\" id=\"sk-estimator-id-6\" type=\"checkbox\" ><label for=\"sk-estimator-id-6\" class=\"sk-toggleable__label sk-toggleable__label-arrow\">Scaler</label><div class=\"sk-toggleable__content\"><pre>[&#x27;Site Zip&#x27;, &#x27;carrying tank capacity(gallons)&#x27;, &#x27;Tank Latitude&#x27;, &#x27;Tank Longitude&#x27;, &#x27;Area Latitude&#x27;, &#x27;Area Longitude&#x27;, &#x27;Tank_age (years)&#x27;]</pre></div></div></div><div class=\"sk-serial\"><div class=\"sk-item\"><div class=\"sk-estimator sk-toggleable\"><input class=\"sk-toggleable__control sk-hidden--visually\" id=\"sk-estimator-id-7\" type=\"checkbox\" ><label for=\"sk-estimator-id-7\" class=\"sk-toggleable__label sk-toggleable__label-arrow\">StandardScaler</label><div class=\"sk-toggleable__content\"><pre>StandardScaler()</pre></div></div></div></div></div></div><div class=\"sk-parallel-item\"><div class=\"sk-item\"><div class=\"sk-label-container\"><div class=\"sk-label sk-toggleable\"><input class=\"sk-toggleable__control sk-hidden--visually\" id=\"sk-estimator-id-8\" type=\"checkbox\" ><label for=\"sk-estimator-id-8\" class=\"sk-toggleable__label sk-toggleable__label-arrow\">remainder</label><div class=\"sk-toggleable__content\"><pre></pre></div></div></div><div class=\"sk-serial\"><div class=\"sk-item\"><div class=\"sk-estimator sk-toggleable\"><input class=\"sk-toggleable__control sk-hidden--visually\" id=\"sk-estimator-id-9\" type=\"checkbox\" ><label for=\"sk-estimator-id-9\" class=\"sk-toggleable__label sk-toggleable__label-arrow\">passthrough</label><div class=\"sk-toggleable__content\"><pre>passthrough</pre></div></div></div></div></div></div></div></div></div></div>"
      ],
      "text/plain": [
       "ColumnTransformer(remainder='passthrough',\n",
       "                  transformers=[('encoder',\n",
       "                                 OneHotEncoder(drop='first', sparse=False),\n",
       "                                 ['Closure Type', 'Compartment',\n",
       "                                  'Substance Currently Stored',\n",
       "                                  'Construction Type - Tank',\n",
       "                                  'Construction Type - Piping',\n",
       "                                  'Overfill Protection', 'Spill Protection',\n",
       "                                  'Tank protection']),\n",
       "                                ('encoder1', BinaryEncoder(),\n",
       "                                 ['Area Address', 'Area City', 'Site Zip',\n",
       "                                  'Tank Num']),\n",
       "                                ('Scaler', StandardScaler(),\n",
       "                                 ['Site Zip', 'carrying tank capacity(gallons)',\n",
       "                                  'Tank Latitude', 'Tank Longitude',\n",
       "                                  'Area Latitude', 'Area Longitude',\n",
       "                                  'Tank_age (years)'])])"
      ]
     },
     "execution_count": 94,
     "metadata": {},
     "output_type": "execute_result"
    }
   ],
   "source": [
    "encoder "
   ]
  },
  {
   "cell_type": "markdown",
   "id": "81f89c7f",
   "metadata": {},
   "source": [
    "## \n",
    "drop Installation Date , Installation year , Area Name"
   ]
  },
  {
   "cell_type": "code",
   "execution_count": 95,
   "id": "f1563fd3",
   "metadata": {},
   "outputs": [],
   "source": [
    "df.drop(['Installation Date' ,'Installation year','Area Name'],axis = 1 , inplace = True)"
   ]
  },
  {
   "cell_type": "markdown",
   "id": "5a68827d",
   "metadata": {},
   "source": [
    " "
   ]
  },
  {
   "cell_type": "markdown",
   "id": "ef4a4435",
   "metadata": {},
   "source": [
    "encode the target (Status of Tank)"
   ]
  },
  {
   "cell_type": "code",
   "execution_count": 96,
   "id": "a615dd81",
   "metadata": {},
   "outputs": [],
   "source": [
    "def Status(x):\n",
    "    if x == 'Tank is runing underground' :\n",
    "        return 0\n",
    "    elif  x == 'Tank was Abandoned in Ground' :\n",
    "        return 1\n",
    "    else :\n",
    "        return x"
   ]
  },
  {
   "cell_type": "code",
   "execution_count": 97,
   "id": "837c61c0",
   "metadata": {},
   "outputs": [],
   "source": [
    "df['Status of Tank'] = df['Status of Tank'].apply(Status)"
   ]
  },
  {
   "cell_type": "code",
   "execution_count": 98,
   "id": "3c230e34",
   "metadata": {},
   "outputs": [],
   "source": [
    "x = df.drop('Status of Tank',axis = 1)\n",
    "y = df['Status of Tank']"
   ]
  },
  {
   "cell_type": "markdown",
   "id": "22680a53",
   "metadata": {},
   "source": [
    " "
   ]
  },
  {
   "cell_type": "markdown",
   "id": "82528ca9",
   "metadata": {},
   "source": [
    "## choose the best model\n",
    "best accuracy"
   ]
  },
  {
   "cell_type": "code",
   "execution_count": 99,
   "id": "9b253775",
   "metadata": {},
   "outputs": [],
   "source": [
    "models = list()\n",
    "models.append((\"DecisionTreeClassifier\" , DecisionTreeClassifier(max_depth=6 , max_leaf_nodes=10 , max_features=5)))\n",
    "models.append((\"GaussianNB\" , GaussianNB()))\n",
    "models.append((\"LogisticRegression\" , LogisticRegression()))\n",
    "models.append((\"KNeighborsClassifier\" , KNeighborsClassifier()))\n",
    "models.append((\"XGBClassifier\" , XGBClassifier(n_estimators=10)))\n",
    "models.append((\"RandomForestClassifier\" , RandomForestClassifier(n_estimators=20)))"
   ]
  },
  {
   "cell_type": "code",
   "execution_count": 100,
   "id": "3ce4e9bc",
   "metadata": {},
   "outputs": [
    {
     "name": "stdout",
     "output_type": "stream",
     "text": [
      "DecisionTreeClassifier\n",
      "Train accuracy is  0.9264046319232321\n",
      "Test accuracy is  0.9152316943695157\n",
      "**************************************************\n",
      "GaussianNB\n",
      "Train accuracy is  0.9832507172645559\n",
      "Test accuracy is  0.9677794695533406\n",
      "**************************************************\n",
      "LogisticRegression\n",
      "Train accuracy is  0.9881416807796979\n",
      "Test accuracy is  0.9868695916792218\n",
      "**************************************************\n",
      "KNeighborsClassifier\n",
      "Train accuracy is  0.987805523519252\n",
      "Test accuracy is  0.9799614805818789\n",
      "**************************************************\n",
      "XGBClassifier\n",
      "Train accuracy is  1.0\n",
      "Test accuracy is  1.0\n",
      "**************************************************\n",
      "RandomForestClassifier\n",
      "Train accuracy is  1.0\n",
      "Test accuracy is  0.9997626895187871\n",
      "**************************************************\n"
     ]
    }
   ],
   "source": [
    "for model in models:\n",
    "    step = list()\n",
    "    step.append((\"encoder\" , encoder))\n",
    "    step.append(model)\n",
    "    pipline = Pipeline(steps = step)\n",
    "    codec = cross_validate(pipline,x , y, cv = 5 ,return_train_score=True,scoring='accuracy')\n",
    "    print(model[0])\n",
    "    print(\"Train accuracy is \",codec[\"train_score\"].mean())\n",
    "    print(\"Test accuracy is \" , codec[\"test_score\"].mean())\n",
    "    print(\"*\" * 50)\n",
    "    \n"
   ]
  },
  {
   "cell_type": "markdown",
   "id": "bef953e3",
   "metadata": {},
   "source": [
    " "
   ]
  },
  {
   "cell_type": "code",
   "execution_count": 101,
   "id": "88d7d5ad",
   "metadata": {},
   "outputs": [],
   "source": [
    "steps = list()\n",
    "steps.append((\"encoder\" , encoder))\n",
    "steps.append((\"Model\" , LogisticRegression()))"
   ]
  },
  {
   "cell_type": "code",
   "execution_count": 102,
   "id": "da3150d2",
   "metadata": {},
   "outputs": [],
   "source": [
    "pipeline = Pipeline(steps = steps)"
   ]
  },
  {
   "cell_type": "code",
   "execution_count": 103,
   "id": "baf54468",
   "metadata": {},
   "outputs": [],
   "source": [
    "code = cross_validate(pipeline,x,y,cv = 5 ,return_train_score=True,scoring='accuracy')"
   ]
  },
  {
   "cell_type": "code",
   "execution_count": 104,
   "id": "3bdfa205",
   "metadata": {},
   "outputs": [
    {
     "data": {
      "text/plain": [
       "(0.9881416807796979, 0.9868695916792218)"
      ]
     },
     "execution_count": 104,
     "metadata": {},
     "output_type": "execute_result"
    }
   ],
   "source": [
    "code['train_score'].mean() , code['test_score'].mean()"
   ]
  },
  {
   "cell_type": "code",
   "execution_count": 105,
   "id": "c444dcc4",
   "metadata": {},
   "outputs": [],
   "source": [
    "code1 = cross_validate(pipeline,x,y,cv = 5 ,return_train_score=True,scoring='recall')"
   ]
  },
  {
   "cell_type": "code",
   "execution_count": 106,
   "id": "be3c3f8f",
   "metadata": {},
   "outputs": [
    {
     "data": {
      "text/plain": [
       "(0.9699108818011256, 0.9669793621013133)"
      ]
     },
     "execution_count": 106,
     "metadata": {},
     "output_type": "execute_result"
    }
   ],
   "source": [
    "code1['train_score'].mean() , code1['test_score'].mean()"
   ]
  },
  {
   "cell_type": "code",
   "execution_count": 107,
   "id": "d251bffc",
   "metadata": {},
   "outputs": [],
   "source": [
    "code0 = cross_validate(pipeline,x,y,cv = 5 ,return_train_score=True,scoring='precision')"
   ]
  },
  {
   "cell_type": "code",
   "execution_count": 108,
   "id": "ed945da8",
   "metadata": {},
   "outputs": [
    {
     "data": {
      "text/plain": [
       "(0.9876732804348481, 0.9860508433453532)"
      ]
     },
     "execution_count": 108,
     "metadata": {},
     "output_type": "execute_result"
    }
   ],
   "source": [
    "code0['train_score'].mean() , code0['test_score'].mean()"
   ]
  },
  {
   "cell_type": "code",
   "execution_count": null,
   "id": "309056c4",
   "metadata": {},
   "outputs": [],
   "source": []
  },
  {
   "cell_type": "code",
   "execution_count": null,
   "id": "71dc571f",
   "metadata": {},
   "outputs": [],
   "source": []
  },
  {
   "cell_type": "code",
   "execution_count": null,
   "id": "3284a96c",
   "metadata": {},
   "outputs": [],
   "source": []
  },
  {
   "cell_type": "code",
   "execution_count": 109,
   "id": "2052dbf8",
   "metadata": {},
   "outputs": [
    {
     "data": {
      "text/html": [
       "<style>#sk-container-id-2 {color: black;background-color: white;}#sk-container-id-2 pre{padding: 0;}#sk-container-id-2 div.sk-toggleable {background-color: white;}#sk-container-id-2 label.sk-toggleable__label {cursor: pointer;display: block;width: 100%;margin-bottom: 0;padding: 0.3em;box-sizing: border-box;text-align: center;}#sk-container-id-2 label.sk-toggleable__label-arrow:before {content: \"▸\";float: left;margin-right: 0.25em;color: #696969;}#sk-container-id-2 label.sk-toggleable__label-arrow:hover:before {color: black;}#sk-container-id-2 div.sk-estimator:hover label.sk-toggleable__label-arrow:before {color: black;}#sk-container-id-2 div.sk-toggleable__content {max-height: 0;max-width: 0;overflow: hidden;text-align: left;background-color: #f0f8ff;}#sk-container-id-2 div.sk-toggleable__content pre {margin: 0.2em;color: black;border-radius: 0.25em;background-color: #f0f8ff;}#sk-container-id-2 input.sk-toggleable__control:checked~div.sk-toggleable__content {max-height: 200px;max-width: 100%;overflow: auto;}#sk-container-id-2 input.sk-toggleable__control:checked~label.sk-toggleable__label-arrow:before {content: \"▾\";}#sk-container-id-2 div.sk-estimator input.sk-toggleable__control:checked~label.sk-toggleable__label {background-color: #d4ebff;}#sk-container-id-2 div.sk-label input.sk-toggleable__control:checked~label.sk-toggleable__label {background-color: #d4ebff;}#sk-container-id-2 input.sk-hidden--visually {border: 0;clip: rect(1px 1px 1px 1px);clip: rect(1px, 1px, 1px, 1px);height: 1px;margin: -1px;overflow: hidden;padding: 0;position: absolute;width: 1px;}#sk-container-id-2 div.sk-estimator {font-family: monospace;background-color: #f0f8ff;border: 1px dotted black;border-radius: 0.25em;box-sizing: border-box;margin-bottom: 0.5em;}#sk-container-id-2 div.sk-estimator:hover {background-color: #d4ebff;}#sk-container-id-2 div.sk-parallel-item::after {content: \"\";width: 100%;border-bottom: 1px solid gray;flex-grow: 1;}#sk-container-id-2 div.sk-label:hover label.sk-toggleable__label {background-color: #d4ebff;}#sk-container-id-2 div.sk-serial::before {content: \"\";position: absolute;border-left: 1px solid gray;box-sizing: border-box;top: 0;bottom: 0;left: 50%;z-index: 0;}#sk-container-id-2 div.sk-serial {display: flex;flex-direction: column;align-items: center;background-color: white;padding-right: 0.2em;padding-left: 0.2em;position: relative;}#sk-container-id-2 div.sk-item {position: relative;z-index: 1;}#sk-container-id-2 div.sk-parallel {display: flex;align-items: stretch;justify-content: center;background-color: white;position: relative;}#sk-container-id-2 div.sk-item::before, #sk-container-id-2 div.sk-parallel-item::before {content: \"\";position: absolute;border-left: 1px solid gray;box-sizing: border-box;top: 0;bottom: 0;left: 50%;z-index: -1;}#sk-container-id-2 div.sk-parallel-item {display: flex;flex-direction: column;z-index: 1;position: relative;background-color: white;}#sk-container-id-2 div.sk-parallel-item:first-child::after {align-self: flex-end;width: 50%;}#sk-container-id-2 div.sk-parallel-item:last-child::after {align-self: flex-start;width: 50%;}#sk-container-id-2 div.sk-parallel-item:only-child::after {width: 0;}#sk-container-id-2 div.sk-dashed-wrapped {border: 1px dashed gray;margin: 0 0.4em 0.5em 0.4em;box-sizing: border-box;padding-bottom: 0.4em;background-color: white;}#sk-container-id-2 div.sk-label label {font-family: monospace;font-weight: bold;display: inline-block;line-height: 1.2em;}#sk-container-id-2 div.sk-label-container {text-align: center;}#sk-container-id-2 div.sk-container {/* jupyter's `normalize.less` sets `[hidden] { display: none; }` but bootstrap.min.css set `[hidden] { display: none !important; }` so we also need the `!important` here to be able to override the default hidden behavior on the sphinx rendered scikit-learn.org. See: https://github.com/scikit-learn/scikit-learn/issues/21755 */display: inline-block !important;position: relative;}#sk-container-id-2 div.sk-text-repr-fallback {display: none;}</style><div id=\"sk-container-id-2\" class=\"sk-top-container\"><div class=\"sk-text-repr-fallback\"><pre>Pipeline(steps=[(&#x27;encoder&#x27;,\n",
       "                 ColumnTransformer(remainder=&#x27;passthrough&#x27;,\n",
       "                                   transformers=[(&#x27;encoder&#x27;,\n",
       "                                                  OneHotEncoder(drop=&#x27;first&#x27;,\n",
       "                                                                sparse=False),\n",
       "                                                  [&#x27;Closure Type&#x27;,\n",
       "                                                   &#x27;Compartment&#x27;,\n",
       "                                                   &#x27;Substance Currently Stored&#x27;,\n",
       "                                                   &#x27;Construction Type - Tank&#x27;,\n",
       "                                                   &#x27;Construction Type - Piping&#x27;,\n",
       "                                                   &#x27;Overfill Protection&#x27;,\n",
       "                                                   &#x27;Spill Protection&#x27;,\n",
       "                                                   &#x27;Tank protection&#x27;]),\n",
       "                                                 (&#x27;encoder1&#x27;, BinaryEncoder(),\n",
       "                                                  [&#x27;Area Address&#x27;, &#x27;Area City&#x27;,\n",
       "                                                   &#x27;Site Zip&#x27;, &#x27;Tank Num&#x27;]),\n",
       "                                                 (&#x27;Scaler&#x27;, StandardScaler(),\n",
       "                                                  [&#x27;Site Zip&#x27;,\n",
       "                                                   &#x27;carrying tank &#x27;\n",
       "                                                   &#x27;capacity(gallons)&#x27;,\n",
       "                                                   &#x27;Tank Latitude&#x27;,\n",
       "                                                   &#x27;Tank Longitude&#x27;,\n",
       "                                                   &#x27;Area Latitude&#x27;,\n",
       "                                                   &#x27;Area Longitude&#x27;,\n",
       "                                                   &#x27;Tank_age (years)&#x27;])])),\n",
       "                (&#x27;Model&#x27;, LogisticRegression())])</pre><b>In a Jupyter environment, please rerun this cell to show the HTML representation or trust the notebook. <br />On GitHub, the HTML representation is unable to render, please try loading this page with nbviewer.org.</b></div><div class=\"sk-container\" hidden><div class=\"sk-item sk-dashed-wrapped\"><div class=\"sk-label-container\"><div class=\"sk-label sk-toggleable\"><input class=\"sk-toggleable__control sk-hidden--visually\" id=\"sk-estimator-id-10\" type=\"checkbox\" ><label for=\"sk-estimator-id-10\" class=\"sk-toggleable__label sk-toggleable__label-arrow\">Pipeline</label><div class=\"sk-toggleable__content\"><pre>Pipeline(steps=[(&#x27;encoder&#x27;,\n",
       "                 ColumnTransformer(remainder=&#x27;passthrough&#x27;,\n",
       "                                   transformers=[(&#x27;encoder&#x27;,\n",
       "                                                  OneHotEncoder(drop=&#x27;first&#x27;,\n",
       "                                                                sparse=False),\n",
       "                                                  [&#x27;Closure Type&#x27;,\n",
       "                                                   &#x27;Compartment&#x27;,\n",
       "                                                   &#x27;Substance Currently Stored&#x27;,\n",
       "                                                   &#x27;Construction Type - Tank&#x27;,\n",
       "                                                   &#x27;Construction Type - Piping&#x27;,\n",
       "                                                   &#x27;Overfill Protection&#x27;,\n",
       "                                                   &#x27;Spill Protection&#x27;,\n",
       "                                                   &#x27;Tank protection&#x27;]),\n",
       "                                                 (&#x27;encoder1&#x27;, BinaryEncoder(),\n",
       "                                                  [&#x27;Area Address&#x27;, &#x27;Area City&#x27;,\n",
       "                                                   &#x27;Site Zip&#x27;, &#x27;Tank Num&#x27;]),\n",
       "                                                 (&#x27;Scaler&#x27;, StandardScaler(),\n",
       "                                                  [&#x27;Site Zip&#x27;,\n",
       "                                                   &#x27;carrying tank &#x27;\n",
       "                                                   &#x27;capacity(gallons)&#x27;,\n",
       "                                                   &#x27;Tank Latitude&#x27;,\n",
       "                                                   &#x27;Tank Longitude&#x27;,\n",
       "                                                   &#x27;Area Latitude&#x27;,\n",
       "                                                   &#x27;Area Longitude&#x27;,\n",
       "                                                   &#x27;Tank_age (years)&#x27;])])),\n",
       "                (&#x27;Model&#x27;, LogisticRegression())])</pre></div></div></div><div class=\"sk-serial\"><div class=\"sk-item sk-dashed-wrapped\"><div class=\"sk-label-container\"><div class=\"sk-label sk-toggleable\"><input class=\"sk-toggleable__control sk-hidden--visually\" id=\"sk-estimator-id-11\" type=\"checkbox\" ><label for=\"sk-estimator-id-11\" class=\"sk-toggleable__label sk-toggleable__label-arrow\">encoder: ColumnTransformer</label><div class=\"sk-toggleable__content\"><pre>ColumnTransformer(remainder=&#x27;passthrough&#x27;,\n",
       "                  transformers=[(&#x27;encoder&#x27;,\n",
       "                                 OneHotEncoder(drop=&#x27;first&#x27;, sparse=False),\n",
       "                                 [&#x27;Closure Type&#x27;, &#x27;Compartment&#x27;,\n",
       "                                  &#x27;Substance Currently Stored&#x27;,\n",
       "                                  &#x27;Construction Type - Tank&#x27;,\n",
       "                                  &#x27;Construction Type - Piping&#x27;,\n",
       "                                  &#x27;Overfill Protection&#x27;, &#x27;Spill Protection&#x27;,\n",
       "                                  &#x27;Tank protection&#x27;]),\n",
       "                                (&#x27;encoder1&#x27;, BinaryEncoder(),\n",
       "                                 [&#x27;Area Address&#x27;, &#x27;Area City&#x27;, &#x27;Site Zip&#x27;,\n",
       "                                  &#x27;Tank Num&#x27;]),\n",
       "                                (&#x27;Scaler&#x27;, StandardScaler(),\n",
       "                                 [&#x27;Site Zip&#x27;, &#x27;carrying tank capacity(gallons)&#x27;,\n",
       "                                  &#x27;Tank Latitude&#x27;, &#x27;Tank Longitude&#x27;,\n",
       "                                  &#x27;Area Latitude&#x27;, &#x27;Area Longitude&#x27;,\n",
       "                                  &#x27;Tank_age (years)&#x27;])])</pre></div></div></div><div class=\"sk-parallel\"><div class=\"sk-parallel-item\"><div class=\"sk-item\"><div class=\"sk-label-container\"><div class=\"sk-label sk-toggleable\"><input class=\"sk-toggleable__control sk-hidden--visually\" id=\"sk-estimator-id-12\" type=\"checkbox\" ><label for=\"sk-estimator-id-12\" class=\"sk-toggleable__label sk-toggleable__label-arrow\">encoder</label><div class=\"sk-toggleable__content\"><pre>[&#x27;Closure Type&#x27;, &#x27;Compartment&#x27;, &#x27;Substance Currently Stored&#x27;, &#x27;Construction Type - Tank&#x27;, &#x27;Construction Type - Piping&#x27;, &#x27;Overfill Protection&#x27;, &#x27;Spill Protection&#x27;, &#x27;Tank protection&#x27;]</pre></div></div></div><div class=\"sk-serial\"><div class=\"sk-item\"><div class=\"sk-estimator sk-toggleable\"><input class=\"sk-toggleable__control sk-hidden--visually\" id=\"sk-estimator-id-13\" type=\"checkbox\" ><label for=\"sk-estimator-id-13\" class=\"sk-toggleable__label sk-toggleable__label-arrow\">OneHotEncoder</label><div class=\"sk-toggleable__content\"><pre>OneHotEncoder(drop=&#x27;first&#x27;, sparse=False)</pre></div></div></div></div></div></div><div class=\"sk-parallel-item\"><div class=\"sk-item\"><div class=\"sk-label-container\"><div class=\"sk-label sk-toggleable\"><input class=\"sk-toggleable__control sk-hidden--visually\" id=\"sk-estimator-id-14\" type=\"checkbox\" ><label for=\"sk-estimator-id-14\" class=\"sk-toggleable__label sk-toggleable__label-arrow\">encoder1</label><div class=\"sk-toggleable__content\"><pre>[&#x27;Area Address&#x27;, &#x27;Area City&#x27;, &#x27;Site Zip&#x27;, &#x27;Tank Num&#x27;]</pre></div></div></div><div class=\"sk-serial\"><div class=\"sk-item\"><div class=\"sk-estimator sk-toggleable\"><input class=\"sk-toggleable__control sk-hidden--visually\" id=\"sk-estimator-id-15\" type=\"checkbox\" ><label for=\"sk-estimator-id-15\" class=\"sk-toggleable__label sk-toggleable__label-arrow\">BinaryEncoder</label><div class=\"sk-toggleable__content\"><pre>BinaryEncoder()</pre></div></div></div></div></div></div><div class=\"sk-parallel-item\"><div class=\"sk-item\"><div class=\"sk-label-container\"><div class=\"sk-label sk-toggleable\"><input class=\"sk-toggleable__control sk-hidden--visually\" id=\"sk-estimator-id-16\" type=\"checkbox\" ><label for=\"sk-estimator-id-16\" class=\"sk-toggleable__label sk-toggleable__label-arrow\">Scaler</label><div class=\"sk-toggleable__content\"><pre>[&#x27;Site Zip&#x27;, &#x27;carrying tank capacity(gallons)&#x27;, &#x27;Tank Latitude&#x27;, &#x27;Tank Longitude&#x27;, &#x27;Area Latitude&#x27;, &#x27;Area Longitude&#x27;, &#x27;Tank_age (years)&#x27;]</pre></div></div></div><div class=\"sk-serial\"><div class=\"sk-item\"><div class=\"sk-estimator sk-toggleable\"><input class=\"sk-toggleable__control sk-hidden--visually\" id=\"sk-estimator-id-17\" type=\"checkbox\" ><label for=\"sk-estimator-id-17\" class=\"sk-toggleable__label sk-toggleable__label-arrow\">StandardScaler</label><div class=\"sk-toggleable__content\"><pre>StandardScaler()</pre></div></div></div></div></div></div><div class=\"sk-parallel-item\"><div class=\"sk-item\"><div class=\"sk-label-container\"><div class=\"sk-label sk-toggleable\"><input class=\"sk-toggleable__control sk-hidden--visually\" id=\"sk-estimator-id-18\" type=\"checkbox\" ><label for=\"sk-estimator-id-18\" class=\"sk-toggleable__label sk-toggleable__label-arrow\">remainder</label><div class=\"sk-toggleable__content\"><pre>[&#x27;Spill Protection degree&#x27;, &#x27;Tank Protection degree&#x27;, &#x27;Overfill Protection degree&#x27;, &#x27;Total Protection degree&#x27;]</pre></div></div></div><div class=\"sk-serial\"><div class=\"sk-item\"><div class=\"sk-estimator sk-toggleable\"><input class=\"sk-toggleable__control sk-hidden--visually\" id=\"sk-estimator-id-19\" type=\"checkbox\" ><label for=\"sk-estimator-id-19\" class=\"sk-toggleable__label sk-toggleable__label-arrow\">passthrough</label><div class=\"sk-toggleable__content\"><pre>passthrough</pre></div></div></div></div></div></div></div></div><div class=\"sk-item\"><div class=\"sk-estimator sk-toggleable\"><input class=\"sk-toggleable__control sk-hidden--visually\" id=\"sk-estimator-id-20\" type=\"checkbox\" ><label for=\"sk-estimator-id-20\" class=\"sk-toggleable__label sk-toggleable__label-arrow\">LogisticRegression</label><div class=\"sk-toggleable__content\"><pre>LogisticRegression()</pre></div></div></div></div></div></div></div>"
      ],
      "text/plain": [
       "Pipeline(steps=[('encoder',\n",
       "                 ColumnTransformer(remainder='passthrough',\n",
       "                                   transformers=[('encoder',\n",
       "                                                  OneHotEncoder(drop='first',\n",
       "                                                                sparse=False),\n",
       "                                                  ['Closure Type',\n",
       "                                                   'Compartment',\n",
       "                                                   'Substance Currently Stored',\n",
       "                                                   'Construction Type - Tank',\n",
       "                                                   'Construction Type - Piping',\n",
       "                                                   'Overfill Protection',\n",
       "                                                   'Spill Protection',\n",
       "                                                   'Tank protection']),\n",
       "                                                 ('encoder1', BinaryEncoder(),\n",
       "                                                  ['Area Address', 'Area City',\n",
       "                                                   'Site Zip', 'Tank Num']),\n",
       "                                                 ('Scaler', StandardScaler(),\n",
       "                                                  ['Site Zip',\n",
       "                                                   'carrying tank '\n",
       "                                                   'capacity(gallons)',\n",
       "                                                   'Tank Latitude',\n",
       "                                                   'Tank Longitude',\n",
       "                                                   'Area Latitude',\n",
       "                                                   'Area Longitude',\n",
       "                                                   'Tank_age (years)'])])),\n",
       "                ('Model', LogisticRegression())])"
      ]
     },
     "execution_count": 109,
     "metadata": {},
     "output_type": "execute_result"
    }
   ],
   "source": [
    "pipeline.fit(x,y)"
   ]
  },
  {
   "cell_type": "markdown",
   "id": "d551777c",
   "metadata": {},
   "source": [
    "## prediction"
   ]
  },
  {
   "cell_type": "code",
   "execution_count": 110,
   "id": "00b65fd5",
   "metadata": {},
   "outputs": [],
   "source": [
    "pred= x.sample(20)"
   ]
  },
  {
   "cell_type": "code",
   "execution_count": 111,
   "id": "33986ab5",
   "metadata": {},
   "outputs": [
    {
     "data": {
      "text/plain": [
       "array([0, 0, 0, 1, 0, 0, 0, 0, 1, 0, 0, 0, 0, 0, 0, 0, 0, 0, 0, 1],\n",
       "      dtype=int64)"
      ]
     },
     "execution_count": 111,
     "metadata": {},
     "output_type": "execute_result"
    }
   ],
   "source": [
    "pipeline.predict(pred)"
   ]
  },
  {
   "cell_type": "markdown",
   "id": "6b662dd8",
   "metadata": {},
   "source": [
    "Save"
   ]
  },
  {
   "cell_type": "markdown",
   "id": "b69873f6",
   "metadata": {},
   "source": [
    " "
   ]
  },
  {
   "cell_type": "code",
   "execution_count": 112,
   "id": "37e902ea",
   "metadata": {},
   "outputs": [],
   "source": [
    "import joblib "
   ]
  },
  {
   "cell_type": "code",
   "execution_count": 113,
   "id": "81865b69",
   "metadata": {},
   "outputs": [
    {
     "data": {
      "text/plain": [
       "['pipeline.h5']"
      ]
     },
     "execution_count": 113,
     "metadata": {},
     "output_type": "execute_result"
    }
   ],
   "source": [
    "joblib.dump(pipeline , \"pipeline.h5\")"
   ]
  },
  {
   "cell_type": "markdown",
   "id": "c37b438c",
   "metadata": {},
   "source": [
    "## Feature selection"
   ]
  },
  {
   "cell_type": "code",
   "execution_count": 114,
   "id": "5ed4dc21",
   "metadata": {},
   "outputs": [],
   "source": [
    "from sklearn.feature_selection import SelectKBest , f_regression"
   ]
  },
  {
   "cell_type": "code",
   "execution_count": 115,
   "id": "5f26eddf",
   "metadata": {},
   "outputs": [],
   "source": [
    "select_best = SelectKBest(score_func =f_regression , k = 5)"
   ]
  },
  {
   "cell_type": "code",
   "execution_count": 116,
   "id": "72ca5cff",
   "metadata": {},
   "outputs": [],
   "source": [
    "from sklearn.preprocessing import StandardScaler ,OneHotEncoder"
   ]
  },
  {
   "cell_type": "code",
   "execution_count": 117,
   "id": "3c928f4c",
   "metadata": {},
   "outputs": [],
   "source": [
    "scaler = StandardScaler()\n",
    "encoder = OneHotEncoder(sparse= False , drop= 'first')\n",
    "encoder1 = BinaryEncoder()"
   ]
  },
  {
   "cell_type": "code",
   "execution_count": 118,
   "id": "21ab9300",
   "metadata": {},
   "outputs": [],
   "source": [
    "cat_column= encoder.fit_transform(df[columns])"
   ]
  },
  {
   "cell_type": "code",
   "execution_count": 119,
   "id": "4e4d48be",
   "metadata": {},
   "outputs": [],
   "source": [
    "cat_column1 = encoder1.fit_transform(df[columns1])"
   ]
  },
  {
   "cell_type": "code",
   "execution_count": 120,
   "id": "7698fe27",
   "metadata": {},
   "outputs": [],
   "source": [
    "tranform = pd.DataFrame(cat_column , columns=encoder.get_feature_names_out())"
   ]
  },
  {
   "cell_type": "code",
   "execution_count": 121,
   "id": "0b4e25e2",
   "metadata": {},
   "outputs": [],
   "source": [
    "tranform1 = pd.DataFrame(cat_column1 , columns=encoder1.get_feature_names())"
   ]
  },
  {
   "cell_type": "code",
   "execution_count": 122,
   "id": "e72f12dd",
   "metadata": {},
   "outputs": [],
   "source": [
    "df_copy = df.copy()"
   ]
  },
  {
   "cell_type": "markdown",
   "id": "cb2267d6",
   "metadata": {},
   "source": [
    "to get featurename in deep learing drop the featurecode"
   ]
  },
  {
   "cell_type": "code",
   "execution_count": 123,
   "id": "0ce09482",
   "metadata": {},
   "outputs": [],
   "source": [
    "col = ['Spill Protection degree','Total Protection degree','Tank Protection degree','Overfill Protection degree']"
   ]
  },
  {
   "cell_type": "code",
   "execution_count": 124,
   "id": "46045abf",
   "metadata": {},
   "outputs": [],
   "source": [
    "df_copy.drop(columns+columns1+col,axis = 1,inplace = True)"
   ]
  },
  {
   "cell_type": "code",
   "execution_count": 125,
   "id": "f1efb172",
   "metadata": {},
   "outputs": [],
   "source": [
    "data  = pd.concat([df_copy,tranform,tranform1],axis = 1  )"
   ]
  },
  {
   "cell_type": "code",
   "execution_count": 126,
   "id": "383c8681",
   "metadata": {},
   "outputs": [],
   "source": [
    "x = data.drop('Status of Tank',axis = 1)\n",
    "y = data['Status of Tank']"
   ]
  },
  {
   "cell_type": "code",
   "execution_count": 127,
   "id": "c36291c4",
   "metadata": {},
   "outputs": [],
   "source": [
    "from sklearn.feature_selection import SelectKBest , f_regression"
   ]
  },
  {
   "cell_type": "code",
   "execution_count": 128,
   "id": "7c3440be",
   "metadata": {},
   "outputs": [],
   "source": [
    "select_best = SelectKBest(score_func =f_regression , k = 5)"
   ]
  },
  {
   "cell_type": "code",
   "execution_count": 129,
   "id": "9cbf9ae2",
   "metadata": {},
   "outputs": [
    {
     "data": {
      "text/html": [
       "<style>#sk-container-id-3 {color: black;background-color: white;}#sk-container-id-3 pre{padding: 0;}#sk-container-id-3 div.sk-toggleable {background-color: white;}#sk-container-id-3 label.sk-toggleable__label {cursor: pointer;display: block;width: 100%;margin-bottom: 0;padding: 0.3em;box-sizing: border-box;text-align: center;}#sk-container-id-3 label.sk-toggleable__label-arrow:before {content: \"▸\";float: left;margin-right: 0.25em;color: #696969;}#sk-container-id-3 label.sk-toggleable__label-arrow:hover:before {color: black;}#sk-container-id-3 div.sk-estimator:hover label.sk-toggleable__label-arrow:before {color: black;}#sk-container-id-3 div.sk-toggleable__content {max-height: 0;max-width: 0;overflow: hidden;text-align: left;background-color: #f0f8ff;}#sk-container-id-3 div.sk-toggleable__content pre {margin: 0.2em;color: black;border-radius: 0.25em;background-color: #f0f8ff;}#sk-container-id-3 input.sk-toggleable__control:checked~div.sk-toggleable__content {max-height: 200px;max-width: 100%;overflow: auto;}#sk-container-id-3 input.sk-toggleable__control:checked~label.sk-toggleable__label-arrow:before {content: \"▾\";}#sk-container-id-3 div.sk-estimator input.sk-toggleable__control:checked~label.sk-toggleable__label {background-color: #d4ebff;}#sk-container-id-3 div.sk-label input.sk-toggleable__control:checked~label.sk-toggleable__label {background-color: #d4ebff;}#sk-container-id-3 input.sk-hidden--visually {border: 0;clip: rect(1px 1px 1px 1px);clip: rect(1px, 1px, 1px, 1px);height: 1px;margin: -1px;overflow: hidden;padding: 0;position: absolute;width: 1px;}#sk-container-id-3 div.sk-estimator {font-family: monospace;background-color: #f0f8ff;border: 1px dotted black;border-radius: 0.25em;box-sizing: border-box;margin-bottom: 0.5em;}#sk-container-id-3 div.sk-estimator:hover {background-color: #d4ebff;}#sk-container-id-3 div.sk-parallel-item::after {content: \"\";width: 100%;border-bottom: 1px solid gray;flex-grow: 1;}#sk-container-id-3 div.sk-label:hover label.sk-toggleable__label {background-color: #d4ebff;}#sk-container-id-3 div.sk-serial::before {content: \"\";position: absolute;border-left: 1px solid gray;box-sizing: border-box;top: 0;bottom: 0;left: 50%;z-index: 0;}#sk-container-id-3 div.sk-serial {display: flex;flex-direction: column;align-items: center;background-color: white;padding-right: 0.2em;padding-left: 0.2em;position: relative;}#sk-container-id-3 div.sk-item {position: relative;z-index: 1;}#sk-container-id-3 div.sk-parallel {display: flex;align-items: stretch;justify-content: center;background-color: white;position: relative;}#sk-container-id-3 div.sk-item::before, #sk-container-id-3 div.sk-parallel-item::before {content: \"\";position: absolute;border-left: 1px solid gray;box-sizing: border-box;top: 0;bottom: 0;left: 50%;z-index: -1;}#sk-container-id-3 div.sk-parallel-item {display: flex;flex-direction: column;z-index: 1;position: relative;background-color: white;}#sk-container-id-3 div.sk-parallel-item:first-child::after {align-self: flex-end;width: 50%;}#sk-container-id-3 div.sk-parallel-item:last-child::after {align-self: flex-start;width: 50%;}#sk-container-id-3 div.sk-parallel-item:only-child::after {width: 0;}#sk-container-id-3 div.sk-dashed-wrapped {border: 1px dashed gray;margin: 0 0.4em 0.5em 0.4em;box-sizing: border-box;padding-bottom: 0.4em;background-color: white;}#sk-container-id-3 div.sk-label label {font-family: monospace;font-weight: bold;display: inline-block;line-height: 1.2em;}#sk-container-id-3 div.sk-label-container {text-align: center;}#sk-container-id-3 div.sk-container {/* jupyter's `normalize.less` sets `[hidden] { display: none; }` but bootstrap.min.css set `[hidden] { display: none !important; }` so we also need the `!important` here to be able to override the default hidden behavior on the sphinx rendered scikit-learn.org. See: https://github.com/scikit-learn/scikit-learn/issues/21755 */display: inline-block !important;position: relative;}#sk-container-id-3 div.sk-text-repr-fallback {display: none;}</style><div id=\"sk-container-id-3\" class=\"sk-top-container\"><div class=\"sk-text-repr-fallback\"><pre>SelectKBest(k=5, score_func=&lt;function f_regression at 0x000001FF63FE8C10&gt;)</pre><b>In a Jupyter environment, please rerun this cell to show the HTML representation or trust the notebook. <br />On GitHub, the HTML representation is unable to render, please try loading this page with nbviewer.org.</b></div><div class=\"sk-container\" hidden><div class=\"sk-item\"><div class=\"sk-estimator sk-toggleable\"><input class=\"sk-toggleable__control sk-hidden--visually\" id=\"sk-estimator-id-21\" type=\"checkbox\" checked><label for=\"sk-estimator-id-21\" class=\"sk-toggleable__label sk-toggleable__label-arrow\">SelectKBest</label><div class=\"sk-toggleable__content\"><pre>SelectKBest(k=5, score_func=&lt;function f_regression at 0x000001FF63FE8C10&gt;)</pre></div></div></div></div></div>"
      ],
      "text/plain": [
       "SelectKBest(k=5, score_func=<function f_regression at 0x000001FF63FE8C10>)"
      ]
     },
     "execution_count": 129,
     "metadata": {},
     "output_type": "execute_result"
    }
   ],
   "source": [
    "select_best.fit(x,y)"
   ]
  },
  {
   "cell_type": "code",
   "execution_count": 130,
   "id": "4d33b162",
   "metadata": {},
   "outputs": [
    {
     "data": {
      "text/html": [
       "<div>\n",
       "<style scoped>\n",
       "    .dataframe tbody tr th:only-of-type {\n",
       "        vertical-align: middle;\n",
       "    }\n",
       "\n",
       "    .dataframe tbody tr th {\n",
       "        vertical-align: top;\n",
       "    }\n",
       "\n",
       "    .dataframe thead th {\n",
       "        text-align: right;\n",
       "    }\n",
       "</style>\n",
       "<table border=\"1\" class=\"dataframe\">\n",
       "  <thead>\n",
       "    <tr style=\"text-align: right;\">\n",
       "      <th></th>\n",
       "      <th>Closure Type_Temporarily Closed</th>\n",
       "      <th>Construction Type - Piping_Galvanized Steel</th>\n",
       "      <th>Overfill Protection_Ball Float Device</th>\n",
       "      <th>Tank protection_Cathodically Protected,Double Walled,Interior Lined with Epoxy Coating</th>\n",
       "      <th>Tank protection_Single Walled</th>\n",
       "    </tr>\n",
       "  </thead>\n",
       "  <tbody>\n",
       "    <tr>\n",
       "      <th>0</th>\n",
       "      <td>0.0</td>\n",
       "      <td>0.0</td>\n",
       "      <td>0.0</td>\n",
       "      <td>1.0</td>\n",
       "      <td>0.0</td>\n",
       "    </tr>\n",
       "    <tr>\n",
       "      <th>1</th>\n",
       "      <td>0.0</td>\n",
       "      <td>0.0</td>\n",
       "      <td>0.0</td>\n",
       "      <td>0.0</td>\n",
       "      <td>0.0</td>\n",
       "    </tr>\n",
       "    <tr>\n",
       "      <th>2</th>\n",
       "      <td>0.0</td>\n",
       "      <td>1.0</td>\n",
       "      <td>0.0</td>\n",
       "      <td>1.0</td>\n",
       "      <td>0.0</td>\n",
       "    </tr>\n",
       "    <tr>\n",
       "      <th>3</th>\n",
       "      <td>0.0</td>\n",
       "      <td>1.0</td>\n",
       "      <td>0.0</td>\n",
       "      <td>1.0</td>\n",
       "      <td>0.0</td>\n",
       "    </tr>\n",
       "    <tr>\n",
       "      <th>4</th>\n",
       "      <td>1.0</td>\n",
       "      <td>0.0</td>\n",
       "      <td>1.0</td>\n",
       "      <td>0.0</td>\n",
       "      <td>1.0</td>\n",
       "    </tr>\n",
       "    <tr>\n",
       "      <th>...</th>\n",
       "      <td>...</td>\n",
       "      <td>...</td>\n",
       "      <td>...</td>\n",
       "      <td>...</td>\n",
       "      <td>...</td>\n",
       "    </tr>\n",
       "    <tr>\n",
       "      <th>37922</th>\n",
       "      <td>0.0</td>\n",
       "      <td>1.0</td>\n",
       "      <td>0.0</td>\n",
       "      <td>1.0</td>\n",
       "      <td>0.0</td>\n",
       "    </tr>\n",
       "    <tr>\n",
       "      <th>37923</th>\n",
       "      <td>1.0</td>\n",
       "      <td>0.0</td>\n",
       "      <td>0.0</td>\n",
       "      <td>0.0</td>\n",
       "      <td>0.0</td>\n",
       "    </tr>\n",
       "    <tr>\n",
       "      <th>37924</th>\n",
       "      <td>1.0</td>\n",
       "      <td>0.0</td>\n",
       "      <td>0.0</td>\n",
       "      <td>0.0</td>\n",
       "      <td>0.0</td>\n",
       "    </tr>\n",
       "    <tr>\n",
       "      <th>37925</th>\n",
       "      <td>1.0</td>\n",
       "      <td>0.0</td>\n",
       "      <td>0.0</td>\n",
       "      <td>0.0</td>\n",
       "      <td>0.0</td>\n",
       "    </tr>\n",
       "    <tr>\n",
       "      <th>37926</th>\n",
       "      <td>1.0</td>\n",
       "      <td>0.0</td>\n",
       "      <td>1.0</td>\n",
       "      <td>0.0</td>\n",
       "      <td>1.0</td>\n",
       "    </tr>\n",
       "  </tbody>\n",
       "</table>\n",
       "<p>37927 rows × 5 columns</p>\n",
       "</div>"
      ],
      "text/plain": [
       "       Closure Type_Temporarily Closed  \\\n",
       "0                                  0.0   \n",
       "1                                  0.0   \n",
       "2                                  0.0   \n",
       "3                                  0.0   \n",
       "4                                  1.0   \n",
       "...                                ...   \n",
       "37922                              0.0   \n",
       "37923                              1.0   \n",
       "37924                              1.0   \n",
       "37925                              1.0   \n",
       "37926                              1.0   \n",
       "\n",
       "       Construction Type - Piping_Galvanized Steel  \\\n",
       "0                                              0.0   \n",
       "1                                              0.0   \n",
       "2                                              1.0   \n",
       "3                                              1.0   \n",
       "4                                              0.0   \n",
       "...                                            ...   \n",
       "37922                                          1.0   \n",
       "37923                                          0.0   \n",
       "37924                                          0.0   \n",
       "37925                                          0.0   \n",
       "37926                                          0.0   \n",
       "\n",
       "       Overfill Protection_Ball Float Device  \\\n",
       "0                                        0.0   \n",
       "1                                        0.0   \n",
       "2                                        0.0   \n",
       "3                                        0.0   \n",
       "4                                        1.0   \n",
       "...                                      ...   \n",
       "37922                                    0.0   \n",
       "37923                                    0.0   \n",
       "37924                                    0.0   \n",
       "37925                                    0.0   \n",
       "37926                                    1.0   \n",
       "\n",
       "       Tank protection_Cathodically Protected,Double Walled,Interior Lined with Epoxy Coating  \\\n",
       "0                                                    1.0                                        \n",
       "1                                                    0.0                                        \n",
       "2                                                    1.0                                        \n",
       "3                                                    1.0                                        \n",
       "4                                                    0.0                                        \n",
       "...                                                  ...                                        \n",
       "37922                                                1.0                                        \n",
       "37923                                                0.0                                        \n",
       "37924                                                0.0                                        \n",
       "37925                                                0.0                                        \n",
       "37926                                                0.0                                        \n",
       "\n",
       "       Tank protection_Single Walled  \n",
       "0                                0.0  \n",
       "1                                0.0  \n",
       "2                                0.0  \n",
       "3                                0.0  \n",
       "4                                1.0  \n",
       "...                              ...  \n",
       "37922                            0.0  \n",
       "37923                            0.0  \n",
       "37924                            0.0  \n",
       "37925                            0.0  \n",
       "37926                            1.0  \n",
       "\n",
       "[37927 rows x 5 columns]"
      ]
     },
     "execution_count": 130,
     "metadata": {},
     "output_type": "execute_result"
    }
   ],
   "source": [
    "feature_selection = pd.DataFrame(select_best.fit_transform(x,y), columns= select_best.get_feature_names_out())\n",
    "feature_selection"
   ]
  },
  {
   "cell_type": "code",
   "execution_count": null,
   "id": "44d28b71",
   "metadata": {},
   "outputs": [],
   "source": []
  },
  {
   "cell_type": "markdown",
   "id": "088eeeef",
   "metadata": {},
   "source": [
    "tank with Single Walled & Temporarily Closed & Ball Float Device is the  most likely to be abandoned\n",
    "#     \n",
    " #   \n",
    "  #   \n",
    "     \n",
    "     \n",
    "<img src=\"tank3.jpg\">"
   ]
  },
  {
   "cell_type": "code",
   "execution_count": null,
   "id": "eaeb2bd6",
   "metadata": {},
   "outputs": [],
   "source": []
  },
  {
   "cell_type": "markdown",
   "id": "9fe0afb6",
   "metadata": {},
   "source": [
    "## --------------------------------------------------------------------------"
   ]
  },
  {
   "cell_type": "markdown",
   "id": "64324b3f",
   "metadata": {},
   "source": [
    "________________________________________________________________________________"
   ]
  },
  {
   "cell_type": "markdown",
   "id": "f5bb8d68",
   "metadata": {},
   "source": [
    "## deep learning"
   ]
  },
  {
   "cell_type": "code",
   "execution_count": 161,
   "id": "00125f71",
   "metadata": {},
   "outputs": [],
   "source": [
    "from sklearn.cluster import  KMeans"
   ]
  },
  {
   "cell_type": "code",
   "execution_count": 162,
   "id": "8485713f",
   "metadata": {},
   "outputs": [],
   "source": [
    "list1 = list()\n",
    "list1.append((\"Model\" , KMeans(n_clusters=5)))"
   ]
  },
  {
   "cell_type": "code",
   "execution_count": 163,
   "id": "965d9a73",
   "metadata": {},
   "outputs": [],
   "source": [
    "pipeline2 = Pipeline(steps = list1)"
   ]
  },
  {
   "cell_type": "code",
   "execution_count": 164,
   "id": "af5fd6c9",
   "metadata": {},
   "outputs": [
    {
     "data": {
      "text/html": [
       "<style>#sk-container-id-5 {color: black;background-color: white;}#sk-container-id-5 pre{padding: 0;}#sk-container-id-5 div.sk-toggleable {background-color: white;}#sk-container-id-5 label.sk-toggleable__label {cursor: pointer;display: block;width: 100%;margin-bottom: 0;padding: 0.3em;box-sizing: border-box;text-align: center;}#sk-container-id-5 label.sk-toggleable__label-arrow:before {content: \"▸\";float: left;margin-right: 0.25em;color: #696969;}#sk-container-id-5 label.sk-toggleable__label-arrow:hover:before {color: black;}#sk-container-id-5 div.sk-estimator:hover label.sk-toggleable__label-arrow:before {color: black;}#sk-container-id-5 div.sk-toggleable__content {max-height: 0;max-width: 0;overflow: hidden;text-align: left;background-color: #f0f8ff;}#sk-container-id-5 div.sk-toggleable__content pre {margin: 0.2em;color: black;border-radius: 0.25em;background-color: #f0f8ff;}#sk-container-id-5 input.sk-toggleable__control:checked~div.sk-toggleable__content {max-height: 200px;max-width: 100%;overflow: auto;}#sk-container-id-5 input.sk-toggleable__control:checked~label.sk-toggleable__label-arrow:before {content: \"▾\";}#sk-container-id-5 div.sk-estimator input.sk-toggleable__control:checked~label.sk-toggleable__label {background-color: #d4ebff;}#sk-container-id-5 div.sk-label input.sk-toggleable__control:checked~label.sk-toggleable__label {background-color: #d4ebff;}#sk-container-id-5 input.sk-hidden--visually {border: 0;clip: rect(1px 1px 1px 1px);clip: rect(1px, 1px, 1px, 1px);height: 1px;margin: -1px;overflow: hidden;padding: 0;position: absolute;width: 1px;}#sk-container-id-5 div.sk-estimator {font-family: monospace;background-color: #f0f8ff;border: 1px dotted black;border-radius: 0.25em;box-sizing: border-box;margin-bottom: 0.5em;}#sk-container-id-5 div.sk-estimator:hover {background-color: #d4ebff;}#sk-container-id-5 div.sk-parallel-item::after {content: \"\";width: 100%;border-bottom: 1px solid gray;flex-grow: 1;}#sk-container-id-5 div.sk-label:hover label.sk-toggleable__label {background-color: #d4ebff;}#sk-container-id-5 div.sk-serial::before {content: \"\";position: absolute;border-left: 1px solid gray;box-sizing: border-box;top: 0;bottom: 0;left: 50%;z-index: 0;}#sk-container-id-5 div.sk-serial {display: flex;flex-direction: column;align-items: center;background-color: white;padding-right: 0.2em;padding-left: 0.2em;position: relative;}#sk-container-id-5 div.sk-item {position: relative;z-index: 1;}#sk-container-id-5 div.sk-parallel {display: flex;align-items: stretch;justify-content: center;background-color: white;position: relative;}#sk-container-id-5 div.sk-item::before, #sk-container-id-5 div.sk-parallel-item::before {content: \"\";position: absolute;border-left: 1px solid gray;box-sizing: border-box;top: 0;bottom: 0;left: 50%;z-index: -1;}#sk-container-id-5 div.sk-parallel-item {display: flex;flex-direction: column;z-index: 1;position: relative;background-color: white;}#sk-container-id-5 div.sk-parallel-item:first-child::after {align-self: flex-end;width: 50%;}#sk-container-id-5 div.sk-parallel-item:last-child::after {align-self: flex-start;width: 50%;}#sk-container-id-5 div.sk-parallel-item:only-child::after {width: 0;}#sk-container-id-5 div.sk-dashed-wrapped {border: 1px dashed gray;margin: 0 0.4em 0.5em 0.4em;box-sizing: border-box;padding-bottom: 0.4em;background-color: white;}#sk-container-id-5 div.sk-label label {font-family: monospace;font-weight: bold;display: inline-block;line-height: 1.2em;}#sk-container-id-5 div.sk-label-container {text-align: center;}#sk-container-id-5 div.sk-container {/* jupyter's `normalize.less` sets `[hidden] { display: none; }` but bootstrap.min.css set `[hidden] { display: none !important; }` so we also need the `!important` here to be able to override the default hidden behavior on the sphinx rendered scikit-learn.org. See: https://github.com/scikit-learn/scikit-learn/issues/21755 */display: inline-block !important;position: relative;}#sk-container-id-5 div.sk-text-repr-fallback {display: none;}</style><div id=\"sk-container-id-5\" class=\"sk-top-container\"><div class=\"sk-text-repr-fallback\"><pre>Pipeline(steps=[(&#x27;Model&#x27;, KMeans(n_clusters=5))])</pre><b>In a Jupyter environment, please rerun this cell to show the HTML representation or trust the notebook. <br />On GitHub, the HTML representation is unable to render, please try loading this page with nbviewer.org.</b></div><div class=\"sk-container\" hidden><div class=\"sk-item sk-dashed-wrapped\"><div class=\"sk-label-container\"><div class=\"sk-label sk-toggleable\"><input class=\"sk-toggleable__control sk-hidden--visually\" id=\"sk-estimator-id-24\" type=\"checkbox\" ><label for=\"sk-estimator-id-24\" class=\"sk-toggleable__label sk-toggleable__label-arrow\">Pipeline</label><div class=\"sk-toggleable__content\"><pre>Pipeline(steps=[(&#x27;Model&#x27;, KMeans(n_clusters=5))])</pre></div></div></div><div class=\"sk-serial\"><div class=\"sk-item\"><div class=\"sk-estimator sk-toggleable\"><input class=\"sk-toggleable__control sk-hidden--visually\" id=\"sk-estimator-id-25\" type=\"checkbox\" ><label for=\"sk-estimator-id-25\" class=\"sk-toggleable__label sk-toggleable__label-arrow\">KMeans</label><div class=\"sk-toggleable__content\"><pre>KMeans(n_clusters=5)</pre></div></div></div></div></div></div></div>"
      ],
      "text/plain": [
       "Pipeline(steps=[('Model', KMeans(n_clusters=5))])"
      ]
     },
     "execution_count": 164,
     "metadata": {},
     "output_type": "execute_result"
    }
   ],
   "source": [
    "pipeline2.fit(feature_selection)"
   ]
  },
  {
   "cell_type": "code",
   "execution_count": 165,
   "id": "7d889624",
   "metadata": {},
   "outputs": [
    {
     "data": {
      "text/plain": [
       "array([3, 4, 0, ..., 4, 4, 2])"
      ]
     },
     "execution_count": 165,
     "metadata": {},
     "output_type": "execute_result"
    }
   ],
   "source": [
    "pipeline2.predict(feature_selection)"
   ]
  },
  {
   "cell_type": "code",
   "execution_count": 166,
   "id": "20bc484a",
   "metadata": {},
   "outputs": [],
   "source": [
    "feature_selection['cluster'] = pipeline2.predict(feature_selection)"
   ]
  },
  {
   "cell_type": "code",
   "execution_count": 167,
   "id": "17fc30e4",
   "metadata": {},
   "outputs": [
    {
     "data": {
      "text/plain": [
       "0    10559\n",
       "1     9790\n",
       "4     7529\n",
       "2     5578\n",
       "3     4471\n",
       "Name: cluster, dtype: int64"
      ]
     },
     "execution_count": 167,
     "metadata": {},
     "output_type": "execute_result"
    }
   ],
   "source": [
    "feature_selection['cluster'].value_counts()"
   ]
  },
  {
   "cell_type": "markdown",
   "id": "f2c5d3d3",
   "metadata": {},
   "source": [
    "the tanks (1079) which cluster = 4  are most likely to be abandoned"
   ]
  },
  {
   "cell_type": "code",
   "execution_count": null,
   "id": "905f1ef3",
   "metadata": {},
   "outputs": [],
   "source": []
  },
  {
   "cell_type": "code",
   "execution_count": null,
   "id": "af76d739",
   "metadata": {},
   "outputs": [],
   "source": []
  },
  {
   "cell_type": "code",
   "execution_count": null,
   "id": "fff646da",
   "metadata": {},
   "outputs": [],
   "source": []
  },
  {
   "cell_type": "code",
   "execution_count": null,
   "id": "436885d8",
   "metadata": {},
   "outputs": [],
   "source": []
  },
  {
   "cell_type": "code",
   "execution_count": null,
   "id": "e5273bda",
   "metadata": {},
   "outputs": [],
   "source": []
  }
 ],
 "metadata": {
  "kernelspec": {
   "display_name": "Python 3",
   "language": "python",
   "name": "python3"
  },
  "language_info": {
   "codemirror_mode": {
    "name": "ipython",
    "version": 3
   },
   "file_extension": ".py",
   "mimetype": "text/x-python",
   "name": "python",
   "nbconvert_exporter": "python",
   "pygments_lexer": "ipython3",
   "version": "3.8.8"
  }
 },
 "nbformat": 4,
 "nbformat_minor": 5
}
